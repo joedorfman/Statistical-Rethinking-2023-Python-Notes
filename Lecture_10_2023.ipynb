{
 "cells": [
  {
   "cell_type": "code",
   "execution_count": 1,
   "id": "81f38988",
   "metadata": {},
   "outputs": [],
   "source": [
    "import scipy.stats as stats\n",
    "import numpy as np\n",
    "import matplotlib.pyplot as plt\n",
    "import pymc as pm\n",
    "import arviz as az\n",
    "import pandas as pd\n",
    "import xarray as xr\n",
    "from sklearn.preprocessing import scale\n",
    "import scipy\n",
    "from scipy.special import expit"
   ]
  },
  {
   "cell_type": "markdown",
   "id": "32bb1903",
   "metadata": {},
   "source": [
    "## Generalized Linear Models\n",
    "\n",
    "**Linear Models**: Expected value is additive (\"linear\") combination of parameters\n",
    "\n",
    "**Generalized LInear Models**: Expected value is some function of an additive combination of parameters\n",
    "\n",
    "Uniform changes in predictor not uniform changes in prediction\n",
    "\n",
    "All predictor variables interact, moderate one another\n",
    "\n",
    "Influences predictions & uncertainty of predictions\n",
    "\n",
    "Ceiling and floor effects, everything moderating everything else"
   ]
  },
  {
   "cell_type": "markdown",
   "id": "5f9d7f3a",
   "metadata": {},
   "source": [
    "## Confounded Admissions\n",
    "\n",
    "Adding the confound of 'ability' (qualities of cand. that are difficult to measure that influence department and admission)"
   ]
  },
  {
   "cell_type": "code",
   "execution_count": 59,
   "id": "21ec69c4",
   "metadata": {},
   "outputs": [
    {
     "name": "stdout",
     "output_type": "stream",
     "text": [
      "GD, U == 0\n",
      "[[931.   0.]\n",
      " [215. 647.]]\n",
      "GD, U == 1\n",
      "[[ 0. 95.]\n",
      " [31. 81.]]\n"
     ]
    }
   ],
   "source": [
    "## Generative Sim\n",
    "\n",
    "N = 2000\n",
    "G = np.random.binomial(1,0.5,size=N)\n",
    "U = np.random.binomial(1,0.1,size=N) #Sim high peeps\n",
    "\n",
    "#Gender 0 tends to apply to dept 0, 1 to 1\n",
    "D = np.random.binomial(1,[1*u if g==0 else 0.75 for g,u in zip(G,U)])\n",
    "GD0 = np.histogram2d(G[U==0], D[U==0], bins=(2,2))[0]\n",
    "GD1 = np.histogram2d(G[U==1], D[U==1], bins=(2,2))[0]\n",
    "\n",
    "#Array of acceptance rates [dept,gender]\n",
    "\n",
    "p_u0 = np.array([[0.1,0.1],[0.1,0.3]])\n",
    "p_u1 = np.array([[0.3,0.5],[0.3,0.5]])\n",
    "print('GD, U == 0')\n",
    "print(GD0)\n",
    "print('GD, U == 1')\n",
    "print(GD1)\n",
    "#print('Acceptance Rates')\n",
    "#print('Gender 0: '+ str(GA[0,1]/np.sum(GA[0])))\n",
    "#print('Gender 1: '+ str(GA[1,1]/np.sum(GA[1])))\n",
    "\n",
    "p_u = np.array([p_u0,p_u1])\n",
    "#p   = [p_u[[U[i]]][D[i],G[i]] for i in range(N)] \n",
    "# p_u = [ability,department,gender]\n",
    "p    = np.array([p_u[U[i],D[i],G[i]] for i in range(N)])\n",
    "#p_u[:,:,1]\n",
    "\n",
    "A = np.random.binomial(1,p)"
   ]
  },
  {
   "cell_type": "code",
   "execution_count": 62,
   "id": "ac8d3de2",
   "metadata": {},
   "outputs": [
    {
     "name": "stderr",
     "output_type": "stream",
     "text": [
      "G:\\Statistical_Rethinking\\rethinking\\Lib\\site-packages\\multipledispatch\\dispatcher.py:27: AmbiguityWarning: \n",
      "Ambiguities exist in dispatched function _unify\n",
      "\n",
      "The following signatures may result in ambiguous behavior:\n",
      "\t[ConstrainedVar, Var, Mapping], [object, ConstrainedVar, Mapping]\n",
      "\t[ConstrainedVar, Var, Mapping], [object, ConstrainedVar, Mapping]\n",
      "\t[ConstrainedVar, object, Mapping], [object, ConstrainedVar, Mapping]\n",
      "\t[ConstrainedVar, object, Mapping], [object, ConstrainedVar, Mapping]\n",
      "\n",
      "\n",
      "Consider making the following additions:\n",
      "\n",
      "@dispatch(ConstrainedVar, ConstrainedVar, Mapping)\n",
      "def _unify(...)\n",
      "\n",
      "@dispatch(ConstrainedVar, ConstrainedVar, Mapping)\n",
      "def _unify(...)\n",
      "\n",
      "@dispatch(ConstrainedVar, ConstrainedVar, Mapping)\n",
      "def _unify(...)\n",
      "\n",
      "@dispatch(ConstrainedVar, ConstrainedVar, Mapping)\n",
      "def _unify(...)\n",
      "  warn(warning_text(dispatcher.name, ambiguities), AmbiguityWarning)\n",
      "Auto-assigning NUTS sampler...\n",
      "Initializing NUTS using jitter+adapt_diag...\n",
      "Multiprocess sampling (4 chains in 4 jobs)\n",
      "NUTS: [a]\n"
     ]
    },
    {
     "data": {
      "text/html": [
       "\n",
       "<style>\n",
       "    /* Turns off some styling */\n",
       "    progress {\n",
       "        /* gets rid of default border in Firefox and Opera. */\n",
       "        border: none;\n",
       "        /* Needs to be in here for Safari polyfill so background images work as expected. */\n",
       "        background-size: auto;\n",
       "    }\n",
       "    progress:not([value]), progress:not([value])::-webkit-progress-bar {\n",
       "        background: repeating-linear-gradient(45deg, #7e7e7e, #7e7e7e 10px, #5c5c5c 10px, #5c5c5c 20px);\n",
       "    }\n",
       "    .progress-bar-interrupted, .progress-bar-interrupted::-webkit-progress-bar {\n",
       "        background: #F44336;\n",
       "    }\n",
       "</style>\n"
      ],
      "text/plain": [
       "<IPython.core.display.HTML object>"
      ]
     },
     "metadata": {},
     "output_type": "display_data"
    },
    {
     "data": {
      "text/html": [
       "\n",
       "    <div>\n",
       "      <progress value='8000' class='' max='8000' style='width:300px; height:20px; vertical-align: middle;'></progress>\n",
       "      100.00% [8000/8000 00:04&lt;00:00 Sampling 4 chains, 0 divergences]\n",
       "    </div>\n",
       "    "
      ],
      "text/plain": [
       "<IPython.core.display.HTML object>"
      ]
     },
     "metadata": {},
     "output_type": "display_data"
    },
    {
     "name": "stderr",
     "output_type": "stream",
     "text": [
      "Sampling 4 chains for 1_000 tune and 1_000 draw iterations (4_000 + 4_000 draws total) took 25 seconds.\n"
     ]
    }
   ],
   "source": [
    "with pm.Model() as tot_sim:\n",
    "    a = pm.Normal('a',0,1,shape=2)\n",
    "    p =  pm.Deterministic(\"p\", pm.invlogit(a[G]))\n",
    "    likelihood = pm.Bernoulli('A',p,observed=A)\n",
    "    tot_sim_trace = pm.sample()\n",
    "    "
   ]
  },
  {
   "cell_type": "code",
   "execution_count": 63,
   "id": "428a759f",
   "metadata": {},
   "outputs": [
    {
     "name": "stderr",
     "output_type": "stream",
     "text": [
      "Auto-assigning NUTS sampler...\n",
      "Initializing NUTS using jitter+adapt_diag...\n",
      "Multiprocess sampling (4 chains in 4 jobs)\n",
      "NUTS: [a]\n"
     ]
    },
    {
     "data": {
      "text/html": [
       "\n",
       "<style>\n",
       "    /* Turns off some styling */\n",
       "    progress {\n",
       "        /* gets rid of default border in Firefox and Opera. */\n",
       "        border: none;\n",
       "        /* Needs to be in here for Safari polyfill so background images work as expected. */\n",
       "        background-size: auto;\n",
       "    }\n",
       "    progress:not([value]), progress:not([value])::-webkit-progress-bar {\n",
       "        background: repeating-linear-gradient(45deg, #7e7e7e, #7e7e7e 10px, #5c5c5c 10px, #5c5c5c 20px);\n",
       "    }\n",
       "    .progress-bar-interrupted, .progress-bar-interrupted::-webkit-progress-bar {\n",
       "        background: #F44336;\n",
       "    }\n",
       "</style>\n"
      ],
      "text/plain": [
       "<IPython.core.display.HTML object>"
      ]
     },
     "metadata": {},
     "output_type": "display_data"
    },
    {
     "data": {
      "text/html": [
       "\n",
       "    <div>\n",
       "      <progress value='8000' class='' max='8000' style='width:300px; height:20px; vertical-align: middle;'></progress>\n",
       "      100.00% [8000/8000 00:06&lt;00:00 Sampling 4 chains, 0 divergences]\n",
       "    </div>\n",
       "    "
      ],
      "text/plain": [
       "<IPython.core.display.HTML object>"
      ]
     },
     "metadata": {},
     "output_type": "display_data"
    },
    {
     "name": "stderr",
     "output_type": "stream",
     "text": [
      "Sampling 4 chains for 1_000 tune and 1_000 draw iterations (4_000 + 4_000 draws total) took 18 seconds.\n"
     ]
    }
   ],
   "source": [
    "with pm.Model() as direct_sim: #Confounded\n",
    "    a = pm.Normal('a',0,1,shape=(2,2))\n",
    "    p =  pm.Deterministic(\"p\", pm.invlogit(a[G,D]))\n",
    "    likelihood = pm.Bernoulli('A',p,observed=A)\n",
    "    dir_sim_trace = pm.sample()"
   ]
  },
  {
   "cell_type": "code",
   "execution_count": 65,
   "id": "e9f44ff5",
   "metadata": {},
   "outputs": [
    {
     "data": {
      "text/html": [
       "<div>\n",
       "<style scoped>\n",
       "    .dataframe tbody tr th:only-of-type {\n",
       "        vertical-align: middle;\n",
       "    }\n",
       "\n",
       "    .dataframe tbody tr th {\n",
       "        vertical-align: top;\n",
       "    }\n",
       "\n",
       "    .dataframe thead th {\n",
       "        text-align: right;\n",
       "    }\n",
       "</style>\n",
       "<table border=\"1\" class=\"dataframe\">\n",
       "  <thead>\n",
       "    <tr style=\"text-align: right;\">\n",
       "      <th></th>\n",
       "      <th>mean</th>\n",
       "      <th>sd</th>\n",
       "      <th>hdi_3%</th>\n",
       "      <th>hdi_97%</th>\n",
       "      <th>mcse_mean</th>\n",
       "      <th>mcse_sd</th>\n",
       "      <th>ess_bulk</th>\n",
       "      <th>ess_tail</th>\n",
       "      <th>r_hat</th>\n",
       "    </tr>\n",
       "  </thead>\n",
       "  <tbody>\n",
       "    <tr>\n",
       "      <th>a[0]</th>\n",
       "      <td>-1.883</td>\n",
       "      <td>0.089</td>\n",
       "      <td>-2.050</td>\n",
       "      <td>-1.718</td>\n",
       "      <td>0.002</td>\n",
       "      <td>0.001</td>\n",
       "      <td>3408.0</td>\n",
       "      <td>2901.0</td>\n",
       "      <td>1.0</td>\n",
       "    </tr>\n",
       "    <tr>\n",
       "      <th>a[1]</th>\n",
       "      <td>-1.026</td>\n",
       "      <td>0.071</td>\n",
       "      <td>-1.152</td>\n",
       "      <td>-0.880</td>\n",
       "      <td>0.001</td>\n",
       "      <td>0.001</td>\n",
       "      <td>3878.0</td>\n",
       "      <td>2851.0</td>\n",
       "      <td>1.0</td>\n",
       "    </tr>\n",
       "  </tbody>\n",
       "</table>\n",
       "</div>"
      ],
      "text/plain": [
       "       mean     sd  hdi_3%  hdi_97%  mcse_mean  mcse_sd  ess_bulk  ess_tail  \\\n",
       "a[0] -1.883  0.089  -2.050   -1.718      0.002    0.001    3408.0    2901.0   \n",
       "a[1] -1.026  0.071  -1.152   -0.880      0.001    0.001    3878.0    2851.0   \n",
       "\n",
       "      r_hat  \n",
       "a[0]    1.0  \n",
       "a[1]    1.0  "
      ]
     },
     "execution_count": 65,
     "metadata": {},
     "output_type": "execute_result"
    }
   ],
   "source": [
    "az.summary(tot_sim_trace)[:2]"
   ]
  },
  {
   "cell_type": "code",
   "execution_count": 66,
   "id": "99532af1",
   "metadata": {},
   "outputs": [
    {
     "data": {
      "text/html": [
       "<div>\n",
       "<style scoped>\n",
       "    .dataframe tbody tr th:only-of-type {\n",
       "        vertical-align: middle;\n",
       "    }\n",
       "\n",
       "    .dataframe tbody tr th {\n",
       "        vertical-align: top;\n",
       "    }\n",
       "\n",
       "    .dataframe thead th {\n",
       "        text-align: right;\n",
       "    }\n",
       "</style>\n",
       "<table border=\"1\" class=\"dataframe\">\n",
       "  <thead>\n",
       "    <tr style=\"text-align: right;\">\n",
       "      <th></th>\n",
       "      <th>mean</th>\n",
       "      <th>sd</th>\n",
       "      <th>hdi_3%</th>\n",
       "      <th>hdi_97%</th>\n",
       "      <th>mcse_mean</th>\n",
       "      <th>mcse_sd</th>\n",
       "      <th>ess_bulk</th>\n",
       "      <th>ess_tail</th>\n",
       "      <th>r_hat</th>\n",
       "    </tr>\n",
       "  </thead>\n",
       "  <tbody>\n",
       "    <tr>\n",
       "      <th>a[0, 0]</th>\n",
       "      <td>-2.014</td>\n",
       "      <td>0.102</td>\n",
       "      <td>-2.201</td>\n",
       "      <td>-1.823</td>\n",
       "      <td>0.001</td>\n",
       "      <td>0.001</td>\n",
       "      <td>6894.0</td>\n",
       "      <td>3420.0</td>\n",
       "      <td>1.0</td>\n",
       "    </tr>\n",
       "    <tr>\n",
       "      <th>a[0, 1]</th>\n",
       "      <td>-0.939</td>\n",
       "      <td>0.224</td>\n",
       "      <td>-1.347</td>\n",
       "      <td>-0.513</td>\n",
       "      <td>0.003</td>\n",
       "      <td>0.002</td>\n",
       "      <td>7118.0</td>\n",
       "      <td>2940.0</td>\n",
       "      <td>1.0</td>\n",
       "    </tr>\n",
       "    <tr>\n",
       "      <th>a[1, 0]</th>\n",
       "      <td>-1.785</td>\n",
       "      <td>0.184</td>\n",
       "      <td>-2.129</td>\n",
       "      <td>-1.448</td>\n",
       "      <td>0.002</td>\n",
       "      <td>0.002</td>\n",
       "      <td>6408.0</td>\n",
       "      <td>2809.0</td>\n",
       "      <td>1.0</td>\n",
       "    </tr>\n",
       "    <tr>\n",
       "      <th>a[1, 1]</th>\n",
       "      <td>-0.818</td>\n",
       "      <td>0.081</td>\n",
       "      <td>-0.970</td>\n",
       "      <td>-0.665</td>\n",
       "      <td>0.001</td>\n",
       "      <td>0.001</td>\n",
       "      <td>8119.0</td>\n",
       "      <td>3129.0</td>\n",
       "      <td>1.0</td>\n",
       "    </tr>\n",
       "  </tbody>\n",
       "</table>\n",
       "</div>"
      ],
      "text/plain": [
       "          mean     sd  hdi_3%  hdi_97%  mcse_mean  mcse_sd  ess_bulk  \\\n",
       "a[0, 0] -2.014  0.102  -2.201   -1.823      0.001    0.001    6894.0   \n",
       "a[0, 1] -0.939  0.224  -1.347   -0.513      0.003    0.002    7118.0   \n",
       "a[1, 0] -1.785  0.184  -2.129   -1.448      0.002    0.002    6408.0   \n",
       "a[1, 1] -0.818  0.081  -0.970   -0.665      0.001    0.001    8119.0   \n",
       "\n",
       "         ess_tail  r_hat  \n",
       "a[0, 0]    3420.0    1.0  \n",
       "a[0, 1]    2940.0    1.0  \n",
       "a[1, 0]    2809.0    1.0  \n",
       "a[1, 1]    3129.0    1.0  "
      ]
     },
     "execution_count": 66,
     "metadata": {},
     "output_type": "execute_result"
    }
   ],
   "source": [
    "#In log odds\n",
    "az.summary(dir_sim_trace)[:4]"
   ]
  },
  {
   "cell_type": "code",
   "execution_count": 80,
   "id": "0a5dd276",
   "metadata": {},
   "outputs": [
    {
     "data": {
      "image/png": "[encoded data removed]",
      "text/plain": [
       "<Figure size 640x480 with 1 Axes>"
      ]
     },
     "metadata": {},
     "output_type": "display_data"
    }
   ],
   "source": [
    "for i in range(2):\n",
    "    for j in range(2):\n",
    "        az.plot_kde(expit(dir_sim_trace.posterior.a.values[:,:,i,j]))\n",
    "        \n",
    "#Probability distribution of probabilities,\n",
    "#for each deptartment:gender pair.\n",
    "#Exceptional individuals of gender 1 don't apply to dept1\n",
    "# So admission of applicants appear discriminated\n",
    "#D2 has discrimination, but because ofthe ability, it has a \n",
    "# masking effect"
   ]
  },
  {
   "cell_type": "markdown",
   "id": "92877ef6",
   "metadata": {},
   "source": [
    "## Collider Bias\n",
    "\n",
    "Stratifying by D opens non-causal path through u\n",
    "\n",
    "Can estimate total causal effect of G, but isn't what we want\n",
    "\n",
    "Cannot estimate direct effect of D or G. \n",
    "\n",
    "Intuitive explantion:\n",
    "\n",
    "High ability G1s apply to discriminatory department anyway\n",
    "\n",
    "G1s in that department are higher ability on average than G2s\n",
    "\n",
    "High ability compensates for discrimination => masks evidence"
   ]
  },
  {
   "cell_type": "code",
   "execution_count": null,
   "id": "7f60073e",
   "metadata": {},
   "outputs": [],
   "source": []
  }
 ],
 "metadata": {
  "kernelspec": {
   "display_name": "Python 3 (ipykernel)",
   "language": "python",
   "name": "python3"
  },
  "language_info": {
   "codemirror_mode": {
    "name": "ipython",
    "version": 3
   },
   "file_extension": ".py",
   "mimetype": "text/x-python",
   "name": "python",
   "nbconvert_exporter": "python",
   "pygments_lexer": "ipython3",
   "version": "3.11.0"
  }
 },
 "nbformat": 4,
 "nbformat_minor": 5
}
