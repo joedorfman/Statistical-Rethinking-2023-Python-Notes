{
 "cells": [
  {
   "cell_type": "code",
   "execution_count": 1,
   "id": "1336d685",
   "metadata": {},
   "outputs": [],
   "source": [
    "import scipy.stats as stats\n",
    "import numpy as np\n",
    "import matplotlib.pyplot as plt\n",
    "import pymc as pm\n",
    "import arviz as az\n",
    "import bambi\n",
    "import pandas as pd\n",
    "import xarray as xr\n",
    "from sklearn.preprocessing import scale"
   ]
  },
  {
   "cell_type": "code",
   "execution_count": 2,
   "id": "11b784ae",
   "metadata": {},
   "outputs": [
    {
     "data": {
      "text/html": [
       "<div>\n",
       "<style scoped>\n",
       "    .dataframe tbody tr th:only-of-type {\n",
       "        vertical-align: middle;\n",
       "    }\n",
       "\n",
       "    .dataframe tbody tr th {\n",
       "        vertical-align: top;\n",
       "    }\n",
       "\n",
       "    .dataframe thead th {\n",
       "        text-align: right;\n",
       "    }\n",
       "</style>\n",
       "<table border=\"1\" class=\"dataframe\">\n",
       "  <thead>\n",
       "    <tr style=\"text-align: right;\">\n",
       "      <th></th>\n",
       "      <th>height</th>\n",
       "      <th>weight</th>\n",
       "      <th>age</th>\n",
       "      <th>male</th>\n",
       "    </tr>\n",
       "  </thead>\n",
       "  <tbody>\n",
       "    <tr>\n",
       "      <th>0</th>\n",
       "      <td>151.765</td>\n",
       "      <td>47.825606</td>\n",
       "      <td>63.0</td>\n",
       "      <td>1</td>\n",
       "    </tr>\n",
       "    <tr>\n",
       "      <th>1</th>\n",
       "      <td>139.700</td>\n",
       "      <td>36.485807</td>\n",
       "      <td>63.0</td>\n",
       "      <td>0</td>\n",
       "    </tr>\n",
       "    <tr>\n",
       "      <th>2</th>\n",
       "      <td>136.525</td>\n",
       "      <td>31.864838</td>\n",
       "      <td>65.0</td>\n",
       "      <td>0</td>\n",
       "    </tr>\n",
       "    <tr>\n",
       "      <th>3</th>\n",
       "      <td>156.845</td>\n",
       "      <td>53.041914</td>\n",
       "      <td>41.0</td>\n",
       "      <td>1</td>\n",
       "    </tr>\n",
       "    <tr>\n",
       "      <th>4</th>\n",
       "      <td>145.415</td>\n",
       "      <td>41.276872</td>\n",
       "      <td>51.0</td>\n",
       "      <td>0</td>\n",
       "    </tr>\n",
       "  </tbody>\n",
       "</table>\n",
       "</div>"
      ],
      "text/plain": [
       "    height     weight   age  male\n",
       "0  151.765  47.825606  63.0     1\n",
       "1  139.700  36.485807  63.0     0\n",
       "2  136.525  31.864838  65.0     0\n",
       "3  156.845  53.041914  41.0     1\n",
       "4  145.415  41.276872  51.0     0"
      ]
     },
     "execution_count": 2,
     "metadata": {},
     "output_type": "execute_result"
    }
   ],
   "source": [
    "howell = pd.read_csv('./Data/Howell1.csv',sep=';')\n",
    "howell.head()"
   ]
  },
  {
   "cell_type": "code",
   "execution_count": 3,
   "id": "da455861",
   "metadata": {},
   "outputs": [
    {
     "data": {
      "text/html": [
       "<div>\n",
       "<style scoped>\n",
       "    .dataframe tbody tr th:only-of-type {\n",
       "        vertical-align: middle;\n",
       "    }\n",
       "\n",
       "    .dataframe tbody tr th {\n",
       "        vertical-align: top;\n",
       "    }\n",
       "\n",
       "    .dataframe thead th {\n",
       "        text-align: right;\n",
       "    }\n",
       "</style>\n",
       "<table border=\"1\" class=\"dataframe\">\n",
       "  <thead>\n",
       "    <tr style=\"text-align: right;\">\n",
       "      <th></th>\n",
       "      <th>height</th>\n",
       "      <th>weight</th>\n",
       "      <th>age</th>\n",
       "      <th>male</th>\n",
       "    </tr>\n",
       "  </thead>\n",
       "  <tbody>\n",
       "    <tr>\n",
       "      <th>18</th>\n",
       "      <td>121.92</td>\n",
       "      <td>19.617854</td>\n",
       "      <td>12.0</td>\n",
       "      <td>1</td>\n",
       "    </tr>\n",
       "    <tr>\n",
       "      <th>19</th>\n",
       "      <td>105.41</td>\n",
       "      <td>13.947954</td>\n",
       "      <td>8.0</td>\n",
       "      <td>0</td>\n",
       "    </tr>\n",
       "    <tr>\n",
       "      <th>20</th>\n",
       "      <td>86.36</td>\n",
       "      <td>10.489315</td>\n",
       "      <td>6.5</td>\n",
       "      <td>0</td>\n",
       "    </tr>\n",
       "    <tr>\n",
       "      <th>23</th>\n",
       "      <td>129.54</td>\n",
       "      <td>23.586784</td>\n",
       "      <td>13.0</td>\n",
       "      <td>1</td>\n",
       "    </tr>\n",
       "    <tr>\n",
       "      <th>24</th>\n",
       "      <td>109.22</td>\n",
       "      <td>15.989118</td>\n",
       "      <td>7.0</td>\n",
       "      <td>0</td>\n",
       "    </tr>\n",
       "  </tbody>\n",
       "</table>\n",
       "</div>"
      ],
      "text/plain": [
       "    height     weight   age  male\n",
       "18  121.92  19.617854  12.0     1\n",
       "19  105.41  13.947954   8.0     0\n",
       "20   86.36  10.489315   6.5     0\n",
       "23  129.54  23.586784  13.0     1\n",
       "24  109.22  15.989118   7.0     0"
      ]
     },
     "execution_count": 3,
     "metadata": {},
     "output_type": "execute_result"
    }
   ],
   "source": [
    "howell = howell[howell['age'] <= 13]\n",
    "howell.head()"
   ]
  },
  {
   "cell_type": "code",
   "execution_count": 4,
   "id": "f139639e",
   "metadata": {},
   "outputs": [
    {
     "data": {
      "text/plain": [
       "Text(0.5, 1.0, 'Age vs height')"
      ]
     },
     "execution_count": 4,
     "metadata": {},
     "output_type": "execute_result"
    },
    {
     "data": {
      "image/png": "[encoded data removed]",
      "text/plain": [
       "<Figure size 640x480 with 1 Axes>"
      ]
     },
     "metadata": {},
     "output_type": "display_data"
    }
   ],
   "source": [
    "howell.plot.scatter(x='age',y='height',c=howell['male'].map({1:'b',0:'r'}))\n",
    "plt.legend(['Male','Female'])\n",
    "plt.title('Age vs height')"
   ]
  },
  {
   "cell_type": "markdown",
   "id": "eda4b9bb",
   "metadata": {},
   "source": [
    "A -> H -> W\n",
    "A -> W \n"
   ]
  },
  {
   "cell_type": "code",
   "execution_count": 5,
   "id": "eced55bd",
   "metadata": {},
   "outputs": [],
   "source": [
    "# Generative Sim \n",
    "n=200\n",
    "A = np.random.normal(0,1,size=n)\n",
    "H = np.random.normal(0.9*A,size=n)\n",
    "W = np.random.normal(0.9*A +0.1*H,size=n)"
   ]
  },
  {
   "cell_type": "code",
   "execution_count": 6,
   "id": "eb2db726",
   "metadata": {},
   "outputs": [
    {
     "data": {
      "text/plain": [
       "array([[<AxesSubplot: ylabel='Height'>, <AxesSubplot: >],\n",
       "       [<AxesSubplot: xlabel='Age', ylabel='Weight'>,\n",
       "        <AxesSubplot: xlabel='Height'>]], dtype=object)"
      ]
     },
     "execution_count": 6,
     "metadata": {},
     "output_type": "execute_result"
    },
    {
     "data": {
      "image/png": "[encoded data removed]",
      "text/plain": [
       "<Figure size 1472x1104 with 3 Axes>"
      ]
     },
     "metadata": {},
     "output_type": "display_data"
    }
   ],
   "source": [
    "az.plot_pair({'Age':A,'Height':H,'Weight':W})"
   ]
  },
  {
   "cell_type": "markdown",
   "id": "ccb9110d",
   "metadata": {},
   "source": [
    "## Question 2 \n"
   ]
  },
  {
   "cell_type": "code",
   "execution_count": 7,
   "id": "1530f65f",
   "metadata": {},
   "outputs": [],
   "source": [
    "A = scale(howell['age'])\n",
    "W = scale(howell['weight'])\n",
    "H = scale(howell['height'])"
   ]
  },
  {
   "cell_type": "code",
   "execution_count": 8,
   "id": "ac04be96",
   "metadata": {},
   "outputs": [
    {
     "name": "stderr",
     "output_type": "stream",
     "text": [
      "Auto-assigning NUTS sampler...\n",
      "Initializing NUTS using jitter+adapt_diag...\n",
      "G:\\Statistical_Rethinking\\rethinking\\Lib\\site-packages\\multipledispatch\\dispatcher.py:27: AmbiguityWarning: \n",
      "Ambiguities exist in dispatched function _unify\n",
      "\n",
      "The following signatures may result in ambiguous behavior:\n",
      "\t[ConstrainedVar, Var, Mapping], [object, ConstrainedVar, Mapping]\n",
      "\t[ConstrainedVar, object, Mapping], [object, ConstrainedVar, Mapping]\n",
      "\t[ConstrainedVar, object, Mapping], [object, ConstrainedVar, Mapping]\n",
      "\t[object, ConstrainedVar, Mapping], [ConstrainedVar, Var, Mapping]\n",
      "\n",
      "\n",
      "Consider making the following additions:\n",
      "\n",
      "@dispatch(ConstrainedVar, ConstrainedVar, Mapping)\n",
      "def _unify(...)\n",
      "\n",
      "@dispatch(ConstrainedVar, ConstrainedVar, Mapping)\n",
      "def _unify(...)\n",
      "\n",
      "@dispatch(ConstrainedVar, ConstrainedVar, Mapping)\n",
      "def _unify(...)\n",
      "\n",
      "@dispatch(ConstrainedVar, ConstrainedVar, Mapping)\n",
      "def _unify(...)\n",
      "  warn(warning_text(dispatcher.name, ambiguities), AmbiguityWarning)\n",
      "Multiprocess sampling (4 chains in 4 jobs)\n",
      "NUTS: [sigma, bA, a]\n"
     ]
    },
    {
     "data": {
      "text/html": [
       "\n",
       "<style>\n",
       "    /* Turns off some styling */\n",
       "    progress {\n",
       "        /* gets rid of default border in Firefox and Opera. */\n",
       "        border: none;\n",
       "        /* Needs to be in here for Safari polyfill so background images work as expected. */\n",
       "        background-size: auto;\n",
       "    }\n",
       "    progress:not([value]), progress:not([value])::-webkit-progress-bar {\n",
       "        background: repeating-linear-gradient(45deg, #7e7e7e, #7e7e7e 10px, #5c5c5c 10px, #5c5c5c 20px);\n",
       "    }\n",
       "    .progress-bar-interrupted, .progress-bar-interrupted::-webkit-progress-bar {\n",
       "        background: #F44336;\n",
       "    }\n",
       "</style>\n"
      ],
      "text/plain": [
       "<IPython.core.display.HTML object>"
      ]
     },
     "metadata": {},
     "output_type": "display_data"
    },
    {
     "data": {
      "text/html": [
       "\n",
       "    <div>\n",
       "      <progress value='8000' class='' max='8000' style='width:300px; height:20px; vertical-align: middle;'></progress>\n",
       "      100.00% [8000/8000 00:03&lt;00:00 Sampling 4 chains, 0 divergences]\n",
       "    </div>\n",
       "    "
      ],
      "text/plain": [
       "<IPython.core.display.HTML object>"
      ]
     },
     "metadata": {},
     "output_type": "display_data"
    },
    {
     "name": "stderr",
     "output_type": "stream",
     "text": [
      "Sampling 4 chains for 1_000 tune and 1_000 draw iterations (4_000 + 4_000 draws total) took 14 seconds.\n"
     ]
    }
   ],
   "source": [
    "with pm.Model() as total_m: \n",
    "    sigma = pm.Exponential('sigma',1)\n",
    "    bA    = pm.Normal('bA',0,5)\n",
    "    a     = pm.Normal('a',0,5)\n",
    "    \n",
    "    mu = a + bA*howell['age']\n",
    "    W_est = pm.Normal('W_est',mu,sigma, observed = howell['weight'])\n",
    "    total_trace = pm.sample()\n",
    "    "
   ]
  },
  {
   "cell_type": "code",
   "execution_count": 9,
   "id": "e9bc5fb7",
   "metadata": {},
   "outputs": [
    {
     "data": {
      "text/html": [
       "<div>\n",
       "<style scoped>\n",
       "    .dataframe tbody tr th:only-of-type {\n",
       "        vertical-align: middle;\n",
       "    }\n",
       "\n",
       "    .dataframe tbody tr th {\n",
       "        vertical-align: top;\n",
       "    }\n",
       "\n",
       "    .dataframe thead th {\n",
       "        text-align: right;\n",
       "    }\n",
       "</style>\n",
       "<table border=\"1\" class=\"dataframe\">\n",
       "  <thead>\n",
       "    <tr style=\"text-align: right;\">\n",
       "      <th></th>\n",
       "      <th>mean</th>\n",
       "      <th>sd</th>\n",
       "      <th>hdi_3%</th>\n",
       "      <th>hdi_97%</th>\n",
       "      <th>mcse_mean</th>\n",
       "      <th>mcse_sd</th>\n",
       "      <th>ess_bulk</th>\n",
       "      <th>ess_tail</th>\n",
       "      <th>r_hat</th>\n",
       "    </tr>\n",
       "  </thead>\n",
       "  <tbody>\n",
       "    <tr>\n",
       "      <th>bA</th>\n",
       "      <td>1.340</td>\n",
       "      <td>0.049</td>\n",
       "      <td>1.245</td>\n",
       "      <td>1.426</td>\n",
       "      <td>0.001</td>\n",
       "      <td>0.001</td>\n",
       "      <td>2010.0</td>\n",
       "      <td>2268.0</td>\n",
       "      <td>1.0</td>\n",
       "    </tr>\n",
       "    <tr>\n",
       "      <th>a</th>\n",
       "      <td>7.420</td>\n",
       "      <td>0.354</td>\n",
       "      <td>6.771</td>\n",
       "      <td>8.083</td>\n",
       "      <td>0.008</td>\n",
       "      <td>0.006</td>\n",
       "      <td>1976.0</td>\n",
       "      <td>2398.0</td>\n",
       "      <td>1.0</td>\n",
       "    </tr>\n",
       "    <tr>\n",
       "      <th>sigma</th>\n",
       "      <td>2.563</td>\n",
       "      <td>0.145</td>\n",
       "      <td>2.289</td>\n",
       "      <td>2.825</td>\n",
       "      <td>0.003</td>\n",
       "      <td>0.002</td>\n",
       "      <td>2242.0</td>\n",
       "      <td>2432.0</td>\n",
       "      <td>1.0</td>\n",
       "    </tr>\n",
       "  </tbody>\n",
       "</table>\n",
       "</div>"
      ],
      "text/plain": [
       "        mean     sd  hdi_3%  hdi_97%  mcse_mean  mcse_sd  ess_bulk  ess_tail  \\\n",
       "bA     1.340  0.049   1.245    1.426      0.001    0.001    2010.0    2268.0   \n",
       "a      7.420  0.354   6.771    8.083      0.008    0.006    1976.0    2398.0   \n",
       "sigma  2.563  0.145   2.289    2.825      0.003    0.002    2242.0    2432.0   \n",
       "\n",
       "       r_hat  \n",
       "bA       1.0  \n",
       "a        1.0  \n",
       "sigma    1.0  "
      ]
     },
     "execution_count": 9,
     "metadata": {},
     "output_type": "execute_result"
    }
   ],
   "source": [
    "az.summary(total_trace)"
   ]
  },
  {
   "cell_type": "markdown",
   "id": "0bc5bae0",
   "metadata": {},
   "source": [
    "## Question 3 "
   ]
  },
  {
   "cell_type": "code",
   "execution_count": 10,
   "id": "0875808f",
   "metadata": {},
   "outputs": [
    {
     "name": "stderr",
     "output_type": "stream",
     "text": [
      "Auto-assigning NUTS sampler...\n",
      "Initializing NUTS using jitter+adapt_diag...\n",
      "Multiprocess sampling (4 chains in 4 jobs)\n",
      "NUTS: [sigma, a, bA]\n"
     ]
    },
    {
     "data": {
      "text/html": [
       "\n",
       "<style>\n",
       "    /* Turns off some styling */\n",
       "    progress {\n",
       "        /* gets rid of default border in Firefox and Opera. */\n",
       "        border: none;\n",
       "        /* Needs to be in here for Safari polyfill so background images work as expected. */\n",
       "        background-size: auto;\n",
       "    }\n",
       "    progress:not([value]), progress:not([value])::-webkit-progress-bar {\n",
       "        background: repeating-linear-gradient(45deg, #7e7e7e, #7e7e7e 10px, #5c5c5c 10px, #5c5c5c 20px);\n",
       "    }\n",
       "    .progress-bar-interrupted, .progress-bar-interrupted::-webkit-progress-bar {\n",
       "        background: #F44336;\n",
       "    }\n",
       "</style>\n"
      ],
      "text/plain": [
       "<IPython.core.display.HTML object>"
      ]
     },
     "metadata": {},
     "output_type": "display_data"
    },
    {
     "data": {
      "text/html": [
       "\n",
       "    <div>\n",
       "      <progress value='8000' class='' max='8000' style='width:300px; height:20px; vertical-align: middle;'></progress>\n",
       "      100.00% [8000/8000 00:06&lt;00:00 Sampling 4 chains, 0 divergences]\n",
       "    </div>\n",
       "    "
      ],
      "text/plain": [
       "<IPython.core.display.HTML object>"
      ]
     },
     "metadata": {},
     "output_type": "display_data"
    },
    {
     "name": "stderr",
     "output_type": "stream",
     "text": [
      "Sampling 4 chains for 1_000 tune and 1_000 draw iterations (4_000 + 4_000 draws total) took 17 seconds.\n"
     ]
    }
   ],
   "source": [
    "with pm.Model() as sex_m: #Taking into account sex along the way\n",
    "    sigma = pm.Exponential('sigma',1)\n",
    "    a     = pm.Normal('a',0,5,shape=2)\n",
    "    bA    = pm.Normal('bA',0,5,shape=2)\n",
    "    A     = pm.MutableData('A',howell['age'])\n",
    "    S     = pm.MutableData('S',howell['male'])\n",
    "    \n",
    "    mu    = pm.Deterministic('mu',a[S] +  bA[S]*A)\n",
    "    \n",
    "    W_tot = pm.Normal('W_tot',mu,sigma,observed=howell['weight'])\n",
    "    \n",
    "    #Finding the diff in sex for later \n",
    "    mu_diff = pm.Deterministic('mu_diff', mu[1]-mu[0])\n",
    "    \n",
    "    W_diff = pm.Normal('W_diff',mu_diff,sigma, observed = howell['weight'])\n",
    "    \n",
    "    sex_trace = pm.sample()"
   ]
  },
  {
   "cell_type": "code",
   "execution_count": 11,
   "id": "f892ee63",
   "metadata": {},
   "outputs": [
    {
     "data": {
      "text/latex": [
       "$$\n",
       "            \\begin{array}{rcl}\n",
       "            \\text{sigma} &\\sim & \\operatorname{Exp}(f())\\\\\\text{a} &\\sim & \\operatorname{N}(0,~5)\\\\\\text{bA} &\\sim & \\operatorname{N}(0,~5)\\\\\\text{mu} &\\sim & \\operatorname{Deterministic}(f(\\text{a},~\\text{bA}))\\\\\\text{mu_diff} &\\sim & \\operatorname{Deterministic}(f(\\text{a},~\\text{bA}))\\\\\\text{W_tot} &\\sim & \\operatorname{N}(\\text{mu},~\\text{sigma})\\\\\\text{W_diff} &\\sim & \\operatorname{N}(\\text{mu_diff},~\\text{sigma})\n",
       "            \\end{array}\n",
       "            $$"
      ],
      "text/plain": [
       "  sigma ~ Exp(f())\n",
       "      a ~ N(0, 5)\n",
       "     bA ~ N(0, 5)\n",
       "     mu ~ Deterministic(f(a, bA))\n",
       "mu_diff ~ Deterministic(f(a, bA))\n",
       "  W_tot ~ N(mu, sigma)\n",
       " W_diff ~ N(mu_diff, sigma)"
      ]
     },
     "execution_count": 11,
     "metadata": {},
     "output_type": "execute_result"
    }
   ],
   "source": [
    "sex_m"
   ]
  },
  {
   "cell_type": "code",
   "execution_count": 12,
   "id": "fa2cfcda",
   "metadata": {},
   "outputs": [
    {
     "data": {
      "text/html": [
       "<div>\n",
       "<style scoped>\n",
       "    .dataframe tbody tr th:only-of-type {\n",
       "        vertical-align: middle;\n",
       "    }\n",
       "\n",
       "    .dataframe tbody tr th {\n",
       "        vertical-align: top;\n",
       "    }\n",
       "\n",
       "    .dataframe thead th {\n",
       "        text-align: right;\n",
       "    }\n",
       "</style>\n",
       "<table border=\"1\" class=\"dataframe\">\n",
       "  <thead>\n",
       "    <tr style=\"text-align: right;\">\n",
       "      <th></th>\n",
       "      <th>mean</th>\n",
       "      <th>sd</th>\n",
       "      <th>hdi_3%</th>\n",
       "      <th>hdi_97%</th>\n",
       "      <th>mcse_mean</th>\n",
       "      <th>mcse_sd</th>\n",
       "      <th>ess_bulk</th>\n",
       "      <th>ess_tail</th>\n",
       "      <th>r_hat</th>\n",
       "    </tr>\n",
       "  </thead>\n",
       "  <tbody>\n",
       "    <tr>\n",
       "      <th>a[0]</th>\n",
       "      <td>7.785</td>\n",
       "      <td>1.256</td>\n",
       "      <td>5.405</td>\n",
       "      <td>10.106</td>\n",
       "      <td>0.025</td>\n",
       "      <td>0.018</td>\n",
       "      <td>2512.0</td>\n",
       "      <td>2617.0</td>\n",
       "      <td>1.0</td>\n",
       "    </tr>\n",
       "    <tr>\n",
       "      <th>a[1]</th>\n",
       "      <td>12.156</td>\n",
       "      <td>1.313</td>\n",
       "      <td>9.831</td>\n",
       "      <td>14.694</td>\n",
       "      <td>0.026</td>\n",
       "      <td>0.019</td>\n",
       "      <td>2455.0</td>\n",
       "      <td>2481.0</td>\n",
       "      <td>1.0</td>\n",
       "    </tr>\n",
       "    <tr>\n",
       "      <th>bA[0]</th>\n",
       "      <td>1.933</td>\n",
       "      <td>0.173</td>\n",
       "      <td>1.608</td>\n",
       "      <td>2.251</td>\n",
       "      <td>0.004</td>\n",
       "      <td>0.003</td>\n",
       "      <td>2349.0</td>\n",
       "      <td>2496.0</td>\n",
       "      <td>1.0</td>\n",
       "    </tr>\n",
       "    <tr>\n",
       "      <th>bA[1]</th>\n",
       "      <td>-0.162</td>\n",
       "      <td>0.140</td>\n",
       "      <td>-0.425</td>\n",
       "      <td>0.098</td>\n",
       "      <td>0.003</td>\n",
       "      <td>0.002</td>\n",
       "      <td>2431.0</td>\n",
       "      <td>2510.0</td>\n",
       "      <td>1.0</td>\n",
       "    </tr>\n",
       "    <tr>\n",
       "      <th>sigma</th>\n",
       "      <td>6.902</td>\n",
       "      <td>0.273</td>\n",
       "      <td>6.429</td>\n",
       "      <td>7.459</td>\n",
       "      <td>0.005</td>\n",
       "      <td>0.003</td>\n",
       "      <td>3111.0</td>\n",
       "      <td>2571.0</td>\n",
       "      <td>1.0</td>\n",
       "    </tr>\n",
       "    <tr>\n",
       "      <th>...</th>\n",
       "      <td>...</td>\n",
       "      <td>...</td>\n",
       "      <td>...</td>\n",
       "      <td>...</td>\n",
       "      <td>...</td>\n",
       "      <td>...</td>\n",
       "      <td>...</td>\n",
       "      <td>...</td>\n",
       "      <td>...</td>\n",
       "    </tr>\n",
       "    <tr>\n",
       "      <th>mu[153]</th>\n",
       "      <td>11.019</td>\n",
       "      <td>0.648</td>\n",
       "      <td>9.827</td>\n",
       "      <td>12.251</td>\n",
       "      <td>0.010</td>\n",
       "      <td>0.007</td>\n",
       "      <td>4082.0</td>\n",
       "      <td>3355.0</td>\n",
       "      <td>1.0</td>\n",
       "    </tr>\n",
       "    <tr>\n",
       "      <th>mu[154]</th>\n",
       "      <td>9.718</td>\n",
       "      <td>1.114</td>\n",
       "      <td>7.562</td>\n",
       "      <td>11.717</td>\n",
       "      <td>0.022</td>\n",
       "      <td>0.015</td>\n",
       "      <td>2611.0</td>\n",
       "      <td>2651.0</td>\n",
       "      <td>1.0</td>\n",
       "    </tr>\n",
       "    <tr>\n",
       "      <th>mu[155]</th>\n",
       "      <td>11.994</td>\n",
       "      <td>1.192</td>\n",
       "      <td>9.763</td>\n",
       "      <td>14.186</td>\n",
       "      <td>0.024</td>\n",
       "      <td>0.017</td>\n",
       "      <td>2497.0</td>\n",
       "      <td>2580.0</td>\n",
       "      <td>1.0</td>\n",
       "    </tr>\n",
       "    <tr>\n",
       "      <th>mu[156]</th>\n",
       "      <td>12.156</td>\n",
       "      <td>1.313</td>\n",
       "      <td>9.831</td>\n",
       "      <td>14.694</td>\n",
       "      <td>0.026</td>\n",
       "      <td>0.019</td>\n",
       "      <td>2455.0</td>\n",
       "      <td>2481.0</td>\n",
       "      <td>1.0</td>\n",
       "    </tr>\n",
       "    <tr>\n",
       "      <th>mu_diff</th>\n",
       "      <td>13.040</td>\n",
       "      <td>0.513</td>\n",
       "      <td>12.034</td>\n",
       "      <td>13.947</td>\n",
       "      <td>0.008</td>\n",
       "      <td>0.006</td>\n",
       "      <td>3994.0</td>\n",
       "      <td>2928.0</td>\n",
       "      <td>1.0</td>\n",
       "    </tr>\n",
       "  </tbody>\n",
       "</table>\n",
       "<p>163 rows × 9 columns</p>\n",
       "</div>"
      ],
      "text/plain": [
       "           mean     sd  hdi_3%  hdi_97%  mcse_mean  mcse_sd  ess_bulk  \\\n",
       "a[0]      7.785  1.256   5.405   10.106      0.025    0.018    2512.0   \n",
       "a[1]     12.156  1.313   9.831   14.694      0.026    0.019    2455.0   \n",
       "bA[0]     1.933  0.173   1.608    2.251      0.004    0.003    2349.0   \n",
       "bA[1]    -0.162  0.140  -0.425    0.098      0.003    0.002    2431.0   \n",
       "sigma     6.902  0.273   6.429    7.459      0.005    0.003    3111.0   \n",
       "...         ...    ...     ...      ...        ...      ...       ...   \n",
       "mu[153]  11.019  0.648   9.827   12.251      0.010    0.007    4082.0   \n",
       "mu[154]   9.718  1.114   7.562   11.717      0.022    0.015    2611.0   \n",
       "mu[155]  11.994  1.192   9.763   14.186      0.024    0.017    2497.0   \n",
       "mu[156]  12.156  1.313   9.831   14.694      0.026    0.019    2455.0   \n",
       "mu_diff  13.040  0.513  12.034   13.947      0.008    0.006    3994.0   \n",
       "\n",
       "         ess_tail  r_hat  \n",
       "a[0]       2617.0    1.0  \n",
       "a[1]       2481.0    1.0  \n",
       "bA[0]      2496.0    1.0  \n",
       "bA[1]      2510.0    1.0  \n",
       "sigma      2571.0    1.0  \n",
       "...           ...    ...  \n",
       "mu[153]    3355.0    1.0  \n",
       "mu[154]    2651.0    1.0  \n",
       "mu[155]    2580.0    1.0  \n",
       "mu[156]    2481.0    1.0  \n",
       "mu_diff    2928.0    1.0  \n",
       "\n",
       "[163 rows x 9 columns]"
      ]
     },
     "execution_count": 12,
     "metadata": {},
     "output_type": "execute_result"
    }
   ],
   "source": [
    "az.summary(sex_trace)"
   ]
  },
  {
   "cell_type": "code",
   "execution_count": 13,
   "id": "88dba8be",
   "metadata": {},
   "outputs": [
    {
     "name": "stderr",
     "output_type": "stream",
     "text": [
      "Sampling: [W_diff, W_tot]\n"
     ]
    },
    {
     "data": {
      "text/html": [
       "\n",
       "<style>\n",
       "    /* Turns off some styling */\n",
       "    progress {\n",
       "        /* gets rid of default border in Firefox and Opera. */\n",
       "        border: none;\n",
       "        /* Needs to be in here for Safari polyfill so background images work as expected. */\n",
       "        background-size: auto;\n",
       "    }\n",
       "    progress:not([value]), progress:not([value])::-webkit-progress-bar {\n",
       "        background: repeating-linear-gradient(45deg, #7e7e7e, #7e7e7e 10px, #5c5c5c 10px, #5c5c5c 20px);\n",
       "    }\n",
       "    .progress-bar-interrupted, .progress-bar-interrupted::-webkit-progress-bar {\n",
       "        background: #F44336;\n",
       "    }\n",
       "</style>\n"
      ],
      "text/plain": [
       "<IPython.core.display.HTML object>"
      ]
     },
     "metadata": {},
     "output_type": "display_data"
    },
    {
     "data": {
      "text/html": [
       "\n",
       "    <div>\n",
       "      <progress value='4000' class='' max='4000' style='width:300px; height:20px; vertical-align: middle;'></progress>\n",
       "      100.00% [4000/4000 00:00&lt;00:00]\n",
       "    </div>\n",
       "    "
      ],
      "text/plain": [
       "<IPython.core.display.HTML object>"
      ]
     },
     "metadata": {},
     "output_type": "display_data"
    }
   ],
   "source": [
    "with sex_m:\n",
    "    \n",
    "    sex_trace.extend(pm.sample_posterior_predictive(sex_trace))#sex_trace, observed= {'A':1})"
   ]
  },
  {
   "cell_type": "code",
   "execution_count": 14,
   "id": "2eeacd49",
   "metadata": {},
   "outputs": [],
   "source": [
    "w_diff_m = sex_trace.posterior_predictive[\"W_diff\"] - np.mean(sex_trace.posterior_predictive[\"W_diff\"])"
   ]
  },
  {
   "cell_type": "code",
   "execution_count": 17,
   "id": "0de485d8",
   "metadata": {},
   "outputs": [
    {
     "data": {
      "image/png": "[encoded data removed]",
      "text/plain": [
       "<Figure size 640x480 with 1 Axes>"
      ]
     },
     "metadata": {},
     "output_type": "display_data"
    }
   ],
   "source": [
    "_, ax = plt.subplots()\n",
    "for hdi in [.10,.25,.50,.81]:\n",
    "    \n",
    "    #ax.scatter(howell['age'], sex_trace.observed_data[\"W_tot\"])\n",
    "    az.plot_hdi(howell['age'], w_diff_m,hdi_prob=hdi)\n",
    "\n",
    "ax.set_xlabel(\"Age\")\n",
    "ax.set_ylabel(\"Weight\");"
   ]
  },
  {
   "cell_type": "code",
   "execution_count": 16,
   "id": "12042500",
   "metadata": {
    "scrolled": true
   },
   "outputs": [
    {
     "data": {
      "image/png": "[encoded data removed]",
      "text/plain": [
       "<Figure size 640x480 with 1 Axes>"
      ]
     },
     "metadata": {},
     "output_type": "display_data"
    }
   ],
   "source": [
    "_, ax = plt.subplots()\n",
    "ax.scatter(howell['age'], sex_trace.observed_data[\"W_tot\"])\n",
    "az.plot_hdi(howell['age'], sex_trace.posterior_predictive[\"W_tot\"])\n",
    "\n",
    "ax.set_xlabel(\"Age\")\n",
    "ax.set_ylabel(\"Weight\");"
   ]
  }
 ],
 "metadata": {
  "kernelspec": {
   "display_name": "Python 3 (ipykernel)",
   "language": "python",
   "name": "python3"
  },
  "language_info": {
   "codemirror_mode": {
    "name": "ipython",
    "version": 3
   },
   "file_extension": ".py",
   "mimetype": "text/x-python",
   "name": "python",
   "nbconvert_exporter": "python",
   "pygments_lexer": "ipython3",
   "version": "3.11.0"
  }
 },
 "nbformat": 4,
 "nbformat_minor": 5
}
