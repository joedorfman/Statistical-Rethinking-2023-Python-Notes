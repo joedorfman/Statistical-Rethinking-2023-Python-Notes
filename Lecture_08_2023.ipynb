{
 "cells": [
  {
   "cell_type": "code",
   "execution_count": 1,
   "id": "c5f135cf",
   "metadata": {},
   "outputs": [],
   "source": [
    "import scipy.stats as stats\n",
    "import numpy as np\n",
    "import matplotlib.pyplot as plt\n",
    "import pymc as pm\n",
    "import arviz as az\n",
    "import bambi\n",
    "import pandas as pd\n",
    "import xarray as xr\n",
    "from sklearn.preprocessing import scale\n",
    "import scipy"
   ]
  },
  {
   "cell_type": "markdown",
   "id": "3abb2150",
   "metadata": {},
   "source": [
    "# Markov Chain Monte Carlo\n",
    "\n",
    "- Addressing how we compute posterior distributions"
   ]
  },
  {
   "cell_type": "markdown",
   "id": "b538dac4",
   "metadata": {},
   "source": [
    "Returning to the marriage example earlier, we only have a sample from each state (they are only **estimates**)\n",
    "\n",
    "Need to take into accoutn the estimates & other influencing variables (like population, smaller states will have less data and will have higher innaccuracy) "
   ]
  },
  {
   "cell_type": "markdown",
   "id": "0b0b1156",
   "metadata": {},
   "source": [
    "## Real, latent modeling problems \n",
    "\n",
    "- Testing knowledge\n",
    "- Journal refereeing\n",
    "- Social networks\n",
    "\n",
    "Features of them:\n",
    "\n",
    "- Many unknowns \n",
    "- Nested relationships\n",
    "- Bounded outcomes\n",
    "- Difficult calculations"
   ]
  },
  {
   "cell_type": "markdown",
   "id": "2c6fb60d",
   "metadata": {},
   "source": [
    "## Computing the posterior\n",
    "\n",
    "1. Analytical approach (often impossible)\n",
    "    - Only possible for simple problems, needs to be correctly structure\n",
    "2. Grid approximation (very intensive)\n",
    "    - Dimensionality of grid grows with number of unknowns\n",
    "3. Quadratic approximation (limited)\n",
    "    - Similar to maximum likelihood\n",
    "    - Lots of posteriors that aren't multivariate gaussian\n",
    "    - makes strong assumptions\n",
    "4. **Markov Chain Monte Carlo (intensive)**\n",
    "    - Used on wide range of problems\n",
    "    - scales well"
   ]
  },
  {
   "cell_type": "markdown",
   "id": "4e5c1bb2",
   "metadata": {},
   "source": [
    "## Markov Chain\n",
    "\n",
    "Simple Metropolis-type algorithm\n",
    "\n",
    "1. Find proposol location\n",
    "2. Find \"population\" of location\n",
    "3. Find \"population\" of current island\n",
    "4. Move to proposal, with probability = (pop. proposed)/(prop. current)\n",
    "5. Repeat\n",
    "\n",
    "Ensures you visit each location in proportion to its population, in the long run"
   ]
  },
  {
   "cell_type": "markdown",
   "id": "0700d35a",
   "metadata": {},
   "source": [
    "Actual use: Draw samples from a posterior distribution\n",
    "\n",
    "\"Islands\": parameter values\n",
    "    \n",
    "    - Unknowns, candidate explanations\n",
    "\n",
    "\"Population size\": posterior probability\n",
    "\n",
    "Visit each parameter value in proportion to its posterior probability\n",
    "\n",
    "Any number of dimensions (parameters)\n",
    "\n",
    "Calculates an \"integral\" by sampling\n",
    "\n",
    "Chain: Sequence of draws from distribution\n",
    "\n",
    "Markov chain: History doesn't matter, just where you are now \n",
    "\n",
    "Monte Carlo: Random simulation "
   ]
  },
  {
   "cell_type": "markdown",
   "id": "793dede6",
   "metadata": {},
   "source": [
    "## Samplers\n",
    "\n",
    "Lots of sampler options in PYMC, can chose versions of Metropolis if you like. I usually let PYMC chose whatever it thinks is best \n",
    "\n",
    "Can choose HamiltonianMC if you like. But NUTS (No U-Turn Sampler) appears to be a better version of it? (I don't know much, I just accept what experts say)"
   ]
  },
  {
   "cell_type": "markdown",
   "id": "62d1ee0e",
   "metadata": {},
   "source": [
    "## Judgment at Princeton "
   ]
  },
  {
   "cell_type": "markdown",
   "id": "5f808808",
   "metadata": {},
   "source": [
    "\n",
    "\n",
    "Wine Quality (Q unobserved) -> Score (S) <- Judge (J unobserved)\n",
    "\n",
    "Wine origin -> Wine Quality\n",
    "\n",
    "Wine origin -> Score\n",
    "\n",
    "Judge origin -> Judge \n",
    "\n",
    "Estimand: Association between wine quality and wine origin. Stratify by judge for efficiency. \n",
    "\n",
    "Judges have their own biases, some are harsh/easy/discriminating. \n",
    "\n",
    "The judgee differences obscure the ability to estimate the quality. \n",
    "\n",
    "Can use latent variable models, item response models. "
   ]
  },
  {
   "cell_type": "code",
   "execution_count": 2,
   "id": "2de62eeb",
   "metadata": {
    "scrolled": true
   },
   "outputs": [
    {
     "data": {
      "text/html": [
       "<div>\n",
       "<style scoped>\n",
       "    .dataframe tbody tr th:only-of-type {\n",
       "        vertical-align: middle;\n",
       "    }\n",
       "\n",
       "    .dataframe tbody tr th {\n",
       "        vertical-align: top;\n",
       "    }\n",
       "\n",
       "    .dataframe thead th {\n",
       "        text-align: right;\n",
       "    }\n",
       "</style>\n",
       "<table border=\"1\" class=\"dataframe\">\n",
       "  <thead>\n",
       "    <tr style=\"text-align: right;\">\n",
       "      <th></th>\n",
       "      <th>judge</th>\n",
       "      <th>flight</th>\n",
       "      <th>wine</th>\n",
       "      <th>score</th>\n",
       "      <th>wine.amer</th>\n",
       "      <th>judge.amer</th>\n",
       "    </tr>\n",
       "  </thead>\n",
       "  <tbody>\n",
       "    <tr>\n",
       "      <th>0</th>\n",
       "      <td>Jean-M Cardebat</td>\n",
       "      <td>white</td>\n",
       "      <td>A1</td>\n",
       "      <td>10.0</td>\n",
       "      <td>1</td>\n",
       "      <td>0</td>\n",
       "    </tr>\n",
       "    <tr>\n",
       "      <th>1</th>\n",
       "      <td>Jean-M Cardebat</td>\n",
       "      <td>white</td>\n",
       "      <td>B1</td>\n",
       "      <td>13.0</td>\n",
       "      <td>1</td>\n",
       "      <td>0</td>\n",
       "    </tr>\n",
       "    <tr>\n",
       "      <th>2</th>\n",
       "      <td>Jean-M Cardebat</td>\n",
       "      <td>white</td>\n",
       "      <td>C1</td>\n",
       "      <td>14.0</td>\n",
       "      <td>0</td>\n",
       "      <td>0</td>\n",
       "    </tr>\n",
       "    <tr>\n",
       "      <th>3</th>\n",
       "      <td>Jean-M Cardebat</td>\n",
       "      <td>white</td>\n",
       "      <td>D1</td>\n",
       "      <td>15.0</td>\n",
       "      <td>0</td>\n",
       "      <td>0</td>\n",
       "    </tr>\n",
       "    <tr>\n",
       "      <th>4</th>\n",
       "      <td>Jean-M Cardebat</td>\n",
       "      <td>white</td>\n",
       "      <td>E1</td>\n",
       "      <td>8.0</td>\n",
       "      <td>1</td>\n",
       "      <td>0</td>\n",
       "    </tr>\n",
       "  </tbody>\n",
       "</table>\n",
       "</div>"
      ],
      "text/plain": [
       "             judge flight wine  score  wine.amer  judge.amer\n",
       "0  Jean-M Cardebat  white   A1   10.0          1           0\n",
       "1  Jean-M Cardebat  white   B1   13.0          1           0\n",
       "2  Jean-M Cardebat  white   C1   14.0          0           0\n",
       "3  Jean-M Cardebat  white   D1   15.0          0           0\n",
       "4  Jean-M Cardebat  white   E1    8.0          1           0"
      ]
     },
     "execution_count": 2,
     "metadata": {},
     "output_type": "execute_result"
    }
   ],
   "source": [
    "wines = pd.read_csv('Data/Wines2012.csv',sep=';')\n",
    "wines.head()"
   ]
  },
  {
   "cell_type": "code",
   "execution_count": 3,
   "id": "6c1d9034",
   "metadata": {},
   "outputs": [
    {
     "data": {
      "text/plain": [
       "0       0\n",
       "1       2\n",
       "2       4\n",
       "3       6\n",
       "4       8\n",
       "       ..\n",
       "175    11\n",
       "176    13\n",
       "177    15\n",
       "178    17\n",
       "179    19\n",
       "Length: 180, dtype: int8"
      ]
     },
     "execution_count": 3,
     "metadata": {},
     "output_type": "execute_result"
    }
   ],
   "source": [
    "## Working with a lot more categories of things\n",
    "W = wines['wine'].astype('category')\n",
    "W.cat.codes"
   ]
  },
  {
   "cell_type": "code",
   "execution_count": 4,
   "id": "e68b05a0",
   "metadata": {},
   "outputs": [
    {
     "data": {
      "text/plain": [
       "20"
      ]
     },
     "execution_count": 4,
     "metadata": {},
     "output_type": "execute_result"
    }
   ],
   "source": [
    "W.cat.codes.nunique()"
   ]
  },
  {
   "cell_type": "code",
   "execution_count": null,
   "id": "dbaf50bb",
   "metadata": {},
   "outputs": [
    {
     "name": "stderr",
     "output_type": "stream",
     "text": [
      "Auto-assigning NUTS sampler...\n",
      "Initializing NUTS using jitter+adapt_diag...\n",
      "G:\\Statistical_Rethinking\\rethinking\\Lib\\site-packages\\multipledispatch\\dispatcher.py:27: AmbiguityWarning: \n",
      "Ambiguities exist in dispatched function _unify\n",
      "\n",
      "The following signatures may result in ambiguous behavior:\n",
      "\t[ConstrainedVar, Var, Mapping], [object, ConstrainedVar, Mapping]\n",
      "\t[ConstrainedVar, object, Mapping], [object, ConstrainedVar, Mapping]\n",
      "\t[ConstrainedVar, object, Mapping], [object, ConstrainedVar, Mapping]\n",
      "\t[ConstrainedVar, Var, Mapping], [object, ConstrainedVar, Mapping]\n",
      "\n",
      "\n",
      "Consider making the following additions:\n",
      "\n",
      "@dispatch(ConstrainedVar, ConstrainedVar, Mapping)\n",
      "def _unify(...)\n",
      "\n",
      "@dispatch(ConstrainedVar, ConstrainedVar, Mapping)\n",
      "def _unify(...)\n",
      "\n",
      "@dispatch(ConstrainedVar, ConstrainedVar, Mapping)\n",
      "def _unify(...)\n",
      "\n",
      "@dispatch(ConstrainedVar, ConstrainedVar, Mapping)\n",
      "def _unify(...)\n",
      "  warn(warning_text(dispatcher.name, ambiguities), AmbiguityWarning)\n",
      "Multiprocess sampling (4 chains in 4 jobs)\n",
      "NUTS: [sigma, Q]\n"
     ]
    }
   ],
   "source": [
    "with pm.Model() as wine_m:\n",
    "    S = scale(wines['score'])\n",
    "    J = wines['judge']\n",
    "    W = wines['wine'].astype('category').cat.codes\n",
    "    X = wines['wine.amer']\n",
    "    Z = wines['judge.amer']\n",
    "    \n",
    "    sigma = pm.Exponential('sigma',1)\n",
    "    Q     = pm.Normal('Q',0,1,shape=W.nunique())\n",
    "    mu    = Q[W]\n",
    "    S     = pm.Normal('S',mu,sigma,observed=S)\n",
    "    wine_samp = pm.sample()"
   ]
  },
  {
   "cell_type": "code",
   "execution_count": null,
   "id": "61704c3e",
   "metadata": {},
   "outputs": [],
   "source": [
    "wine_m"
   ]
  },
  {
   "cell_type": "code",
   "execution_count": null,
   "id": "bfe84fb7",
   "metadata": {},
   "outputs": [],
   "source": [
    "az.summary(wine_samp)"
   ]
  },
  {
   "cell_type": "markdown",
   "id": "36fcada8",
   "metadata": {},
   "source": [
    "## Drawing the Markov Owl\n",
    "\n",
    "Complex machinery, lots of diagnostics\n",
    "\n",
    "1. Trace plots\n",
    "2. Trace rank plots\n",
    "3. R-hat convergence measure\n",
    "4. Number of effective samples\n",
    "5. Divergent transitions"
   ]
  },
  {
   "cell_type": "code",
   "execution_count": null,
   "id": "4d5c8bf0",
   "metadata": {},
   "outputs": [],
   "source": [
    "az.plot_trace(wine_samp)"
   ]
  },
  {
   "cell_type": "code",
   "execution_count": null,
   "id": "9b5c26c4",
   "metadata": {},
   "outputs": [],
   "source": [
    "az.plot_rank(wine_samp, kind=\"vlines\")"
   ]
  },
  {
   "cell_type": "markdown",
   "id": "f57b97ab",
   "metadata": {},
   "source": [
    "For the above we want the colors to mix along the way, no one being on top or bottom more than any other. Fuzzy caterpillars and convergence. "
   ]
  },
  {
   "cell_type": "markdown",
   "id": "2ad07ca2",
   "metadata": {},
   "source": [
    "## R-hat\n",
    "\n",
    "When chains converge:\n",
    "\n",
    "1. Start and end of each chain explores same region\n",
    "2. Independent chains explore same region\n",
    "\n",
    "R-hat is a ratio of variances:\n",
    "\n",
    "As total variance shrings to average variance within chains, R-hat approachs 1\n",
    "\n",
    "can happen very quickly for good chains. \n",
    "\n",
    "Over 1.1 or 1.2 should think about fiddling or fixing possible issues. \n",
    "\n",
    "NO GUARANTEES, NOT A TEST "
   ]
  },
  {
   "cell_type": "markdown",
   "id": "e013b557",
   "metadata": {},
   "source": [
    "## n_eff\n",
    "\n",
    "Estimate of number of effective samples\n",
    "\n",
    "\"How long would the chain be, if each sample was independent of the one before it?\"\n",
    "\n",
    "When samples are autocorrelated, you have fewer effective samples. \n",
    "\n",
    "Typically n_eff will be smaller than samples taken, because perfect chain will need fewer samples \n",
    "\n",
    "n_eff can be larger than the number of sampels taken. It's just done a very good job"
   ]
  },
  {
   "cell_type": "code",
   "execution_count": null,
   "id": "c617ada6",
   "metadata": {},
   "outputs": [],
   "source": [
    "with pm.Model() as wine_m2:\n",
    "    S = scale(wines['score'])\n",
    "    J = wines['judge']\n",
    "    W = wines['wine'].astype('category').cat.codes\n",
    "    X = wines['wine.amer']\n",
    "    Z = wines['judge.amer']\n",
    "    \n",
    "    sigma = pm.Exponential('sigma',1)\n",
    "    Q     = pm.Normal('Q',0,1,shape=W.nunique())\n",
    "    O     = pm.Normal('O',0,1,shape=X.nunique())\n",
    "    \n",
    "    mu    = Q[W] + O[X]\n",
    "    S     = pm.Normal('S',mu,sigma,observed=S)\n",
    "    wine_samp = pm.sample()"
   ]
  },
  {
   "cell_type": "code",
   "execution_count": null,
   "id": "453b211d",
   "metadata": {},
   "outputs": [],
   "source": [
    "az.plot_forest(wine_samp,combined=True)\n",
    "plt.axvline(x = 0, color = 'black')"
   ]
  },
  {
   "cell_type": "code",
   "execution_count": null,
   "id": "7ec1681b",
   "metadata": {},
   "outputs": [],
   "source": [
    "with pm.Model() as wine_m3:\n",
    "    S = scale(wines['score'])\n",
    "    J = wines['judge'].astype('category').cat.codes\n",
    "    W = wines['wine'].astype('category').cat.codes\n",
    "    X = wines['wine.amer']\n",
    "    Z = wines['judge.amer']\n",
    "    \n",
    "    sigma = pm.Exponential('sigma',1)\n",
    "    Q     = pm.Normal('Q',0,1,shape=W.nunique())\n",
    "    O     = pm.Normal('O',0,1,shape=X.nunique())\n",
    "    H     = pm.Normal('H',0,1,shape=J.nunique())\n",
    "    D     = pm.Exponential('D',1,shape=J.nunique())\n",
    "    \n",
    "    mu    = (Q[W] + O[X] - H[J])*D[J]\n",
    "    S     = pm.Normal('S',mu,sigma,observed=S)\n",
    "    wine_samp = pm.sample()"
   ]
  },
  {
   "cell_type": "code",
   "execution_count": null,
   "id": "050c2c65",
   "metadata": {},
   "outputs": [],
   "source": [
    "wine_m3"
   ]
  },
  {
   "cell_type": "markdown",
   "id": "b1ab1933",
   "metadata": {},
   "source": [
    "mu = Expected Score\n",
    "\n",
    "Q  = Wine quality (per wine!)\n",
    "\n",
    "O  = Origin (peer origin!)\n",
    "\n",
    "H  = Judge harshness (per judge!)\n",
    "\n",
    "D  = Judge discrimination (per judge!) (Very low value means they assign all scores to be average"
   ]
  },
  {
   "cell_type": "code",
   "execution_count": null,
   "id": "67a23b74",
   "metadata": {},
   "outputs": [],
   "source": [
    "az.plot_forest(wine_samp,combined=True)\n",
    "plt.axvline(x = 0, color = 'black')"
   ]
  },
  {
   "cell_type": "markdown",
   "id": "945714ed",
   "metadata": {},
   "source": [
    "# \"When you have computational problems, often there's a problem with your model.\" - Andrew Gelman"
   ]
  },
  {
   "cell_type": "markdown",
   "id": "c8c86968",
   "metadata": {},
   "source": [
    "## Divergent Transitions\n",
    "\n",
    "Divergent transition: A kind of reject proposal\n",
    "\n",
    "Simulation diverges from true path\n",
    "\n",
    "Many DTs: poor exploration & possible bias\n"
   ]
  }
 ],
 "metadata": {
  "kernelspec": {
   "display_name": "Python 3 (ipykernel)",
   "language": "python",
   "name": "python3"
  },
  "language_info": {
   "codemirror_mode": {
    "name": "ipython",
    "version": 3
   },
   "file_extension": ".py",
   "mimetype": "text/x-python",
   "name": "python",
   "nbconvert_exporter": "python",
   "pygments_lexer": "ipython3",
   "version": "3.11.0"
  }
 },
 "nbformat": 4,
 "nbformat_minor": 5
}
