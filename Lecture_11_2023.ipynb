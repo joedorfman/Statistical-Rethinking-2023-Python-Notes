{
 "cells": [
  {
   "cell_type": "code",
   "execution_count": 1,
   "id": "e81cb2b2",
   "metadata": {},
   "outputs": [
    {
     "name": "stderr",
     "output_type": "stream",
     "text": [
      "WARNING (pytensor.tensor.blas): Using NumPy C-API based implementation for BLAS functions.\n"
     ]
    }
   ],
   "source": [
    "import scipy.stats as stats\n",
    "import numpy as np\n",
    "import matplotlib.pyplot as plt\n",
    "import pymc as pm\n",
    "import arviz as az\n",
    "import pandas as pd\n",
    "import xarray as xr\n",
    "from sklearn.preprocessing import scale\n",
    "import scipy\n",
    "from scipy.special import expit"
   ]
  },
  {
   "cell_type": "markdown",
   "id": "62a9fb50",
   "metadata": {},
   "source": [
    "If you cannot solve the proposed problem try to solve first some related problem. Could you imagine a more accessible related problem? A more general problem? A special problem? An analogous problem?\n",
    "\n",
    "Move laterally when stuck\n",
    "\n",
    "Try a simpler model first, then return to the more complex problem\n",
    "\n",
    "\n",
    "## Can't always get what you want\n",
    "\n",
    "Ask what you can get, sensitivity analysis, mediators."
   ]
  },
  {
   "cell_type": "markdown",
   "id": "bca24be6",
   "metadata": {},
   "source": [
    "## Trolley Problems\n",
    "\n",
    "Data:\n",
    "\n",
    "- Different trolley problems/moral questions with principles in opposition\n",
    "\n",
    "- Ask for response regarding moral intuition\n",
    "\n",
    "- Attempt to empirically study the ethics of moral problems.\n",
    "\n",
    "- 3 latent features: Action, Intention, Contact\n",
    "\n",
    "- 331 individuals (age,gender,edu)\n",
    "\n",
    "- Voluntary participation (online)\n",
    "\n",
    "- 30 different trolley problems\n",
    "\n",
    "- action/intention/contact varied \n",
    "\n",
    "- 9930 responses: How appropriate (1-7)?"
   ]
  },
  {
   "cell_type": "code",
   "execution_count": 2,
   "id": "fdf7a9f1",
   "metadata": {},
   "outputs": [
    {
     "data": {
      "text/html": [
       "<div>\n",
       "<style scoped>\n",
       "    .dataframe tbody tr th:only-of-type {\n",
       "        vertical-align: middle;\n",
       "    }\n",
       "\n",
       "    .dataframe tbody tr th {\n",
       "        vertical-align: top;\n",
       "    }\n",
       "\n",
       "    .dataframe thead th {\n",
       "        text-align: right;\n",
       "    }\n",
       "</style>\n",
       "<table border=\"1\" class=\"dataframe\">\n",
       "  <thead>\n",
       "    <tr style=\"text-align: right;\">\n",
       "      <th></th>\n",
       "      <th>case</th>\n",
       "      <th>response</th>\n",
       "      <th>order</th>\n",
       "      <th>id</th>\n",
       "      <th>age</th>\n",
       "      <th>male</th>\n",
       "      <th>edu</th>\n",
       "      <th>action</th>\n",
       "      <th>intention</th>\n",
       "      <th>contact</th>\n",
       "      <th>story</th>\n",
       "      <th>action2</th>\n",
       "    </tr>\n",
       "  </thead>\n",
       "  <tbody>\n",
       "    <tr>\n",
       "      <th>0</th>\n",
       "      <td>cfaqu</td>\n",
       "      <td>4</td>\n",
       "      <td>2</td>\n",
       "      <td>96;434</td>\n",
       "      <td>14</td>\n",
       "      <td>0</td>\n",
       "      <td>Middle School</td>\n",
       "      <td>0</td>\n",
       "      <td>0</td>\n",
       "      <td>1</td>\n",
       "      <td>aqu</td>\n",
       "      <td>1</td>\n",
       "    </tr>\n",
       "    <tr>\n",
       "      <th>1</th>\n",
       "      <td>cfbur</td>\n",
       "      <td>3</td>\n",
       "      <td>31</td>\n",
       "      <td>96;434</td>\n",
       "      <td>14</td>\n",
       "      <td>0</td>\n",
       "      <td>Middle School</td>\n",
       "      <td>0</td>\n",
       "      <td>0</td>\n",
       "      <td>1</td>\n",
       "      <td>bur</td>\n",
       "      <td>1</td>\n",
       "    </tr>\n",
       "    <tr>\n",
       "      <th>2</th>\n",
       "      <td>cfrub</td>\n",
       "      <td>4</td>\n",
       "      <td>16</td>\n",
       "      <td>96;434</td>\n",
       "      <td>14</td>\n",
       "      <td>0</td>\n",
       "      <td>Middle School</td>\n",
       "      <td>0</td>\n",
       "      <td>0</td>\n",
       "      <td>1</td>\n",
       "      <td>rub</td>\n",
       "      <td>1</td>\n",
       "    </tr>\n",
       "    <tr>\n",
       "      <th>3</th>\n",
       "      <td>cibox</td>\n",
       "      <td>3</td>\n",
       "      <td>32</td>\n",
       "      <td>96;434</td>\n",
       "      <td>14</td>\n",
       "      <td>0</td>\n",
       "      <td>Middle School</td>\n",
       "      <td>0</td>\n",
       "      <td>1</td>\n",
       "      <td>1</td>\n",
       "      <td>box</td>\n",
       "      <td>1</td>\n",
       "    </tr>\n",
       "    <tr>\n",
       "      <th>4</th>\n",
       "      <td>cibur</td>\n",
       "      <td>3</td>\n",
       "      <td>4</td>\n",
       "      <td>96;434</td>\n",
       "      <td>14</td>\n",
       "      <td>0</td>\n",
       "      <td>Middle School</td>\n",
       "      <td>0</td>\n",
       "      <td>1</td>\n",
       "      <td>1</td>\n",
       "      <td>bur</td>\n",
       "      <td>1</td>\n",
       "    </tr>\n",
       "  </tbody>\n",
       "</table>\n",
       "</div>"
      ],
      "text/plain": [
       "    case  response  order      id  age  male            edu  action  \\\n",
       "0  cfaqu         4      2  96;434   14     0  Middle School       0   \n",
       "1  cfbur         3     31  96;434   14     0  Middle School       0   \n",
       "2  cfrub         4     16  96;434   14     0  Middle School       0   \n",
       "3  cibox         3     32  96;434   14     0  Middle School       0   \n",
       "4  cibur         3      4  96;434   14     0  Middle School       0   \n",
       "\n",
       "   intention  contact story  action2  \n",
       "0          0        1   aqu        1  \n",
       "1          0        1   bur        1  \n",
       "2          0        1   rub        1  \n",
       "3          1        1   box        1  \n",
       "4          1        1   bur        1  "
      ]
     },
     "execution_count": 2,
     "metadata": {},
     "output_type": "execute_result"
    }
   ],
   "source": [
    "trolley = pd.read_csv('Data/Trolley.csv',sep=';')\n",
    "\n",
    "trolley.head()"
   ]
  },
  {
   "cell_type": "code",
   "execution_count": 3,
   "id": "889725cc",
   "metadata": {},
   "outputs": [
    {
     "data": {
      "text/plain": [
       "array([[<AxesSubplot: title={'center': 'response'}>]], dtype=object)"
      ]
     },
     "execution_count": 3,
     "metadata": {},
     "output_type": "execute_result"
    },
    {
     "data": {
      "image/png": "[encoded data removed]",
      "text/plain": [
       "<Figure size 640x480 with 1 Axes>"
      ]
     },
     "metadata": {},
     "output_type": "display_data"
    }
   ],
   "source": [
    "trolley.hist(column='response')\n",
    "#Not metric, bounded, odd distribution"
   ]
  },
  {
   "cell_type": "markdown",
   "id": "c32c557a",
   "metadata": {},
   "source": [
    "Estimand: How do action, intention, contact influence response to a trolley story? \n",
    "\n",
    "How are influences of A/I/C associated with other variables?"
   ]
  },
  {
   "cell_type": "markdown",
   "id": "38acf011",
   "metadata": {},
   "source": [
    "## Ordered Categories\n",
    "\n",
    "Categories: Discrete types\n",
    "\n",
    "Ordered categories: Discrete types with ordered relationships\n",
    "\n",
    "bad, good, excellent (7 is more than 1, just don't know by how much)\n",
    "\n",
    "Probably much easier to go from 4 to 5 than from 6 to 7\n",
    "\n",
    "Anchor points common (like 4 in our data)\n",
    "\n",
    "Not everyone shares the same anchor points "
   ]
  },
  {
   "cell_type": "markdown",
   "id": "28e9fbdf",
   "metadata": {},
   "source": [
    "## Ordered = Cumulative\n",
    "\n",
    "Adds the previous result to the next result. "
   ]
  },
  {
   "cell_type": "code",
   "execution_count": 4,
   "id": "7fd56370",
   "metadata": {},
   "outputs": [
    {
     "data": {
      "image/png": "[encoded data removed]",
      "text/plain": [
       "<Figure size 640x480 with 1 Axes>"
      ]
     },
     "metadata": {},
     "output_type": "display_data"
    }
   ],
   "source": [
    "cumulative_sum = trolley['response'].value_counts().sort_index().cumsum()\n",
    "\n",
    "cumulative_sum.plot(kind='bar')\n",
    "plt.title('Cumulative Frequency Histogram')\n",
    "plt.xlabel('Response')\n",
    "plt.ylabel('Cumulative Frequency')\n",
    "plt.show()"
   ]
  },
  {
   "cell_type": "code",
   "execution_count": 5,
   "id": "fd55ba4f",
   "metadata": {},
   "outputs": [
    {
     "data": {
      "image/png": "[encoded data removed]",
      "text/plain": [
       "<Figure size 640x480 with 1 Axes>"
      ]
     },
     "metadata": {},
     "output_type": "display_data"
    }
   ],
   "source": [
    "# Calculate the cumulative probability of each response\n",
    "cumulative_prob = cumulative_sum/cumulative_sum.iloc[-1]\n",
    "# Calculate the cumulative log-odds\n",
    "cumulative_log_odds = np.log(cumulative_prob / (1 - cumulative_prob))\n",
    "# Plot the cumulative log-odds\n",
    "#cumulative_log_odds.plot(kind='bar')\n",
    "plt.scatter(x=cumulative_log_odds,y=cumulative_prob)\n",
    "\n",
    "for x, y in zip(cumulative_log_odds, cumulative_prob):\n",
    "    plt.plot([x, x], [y, 0], '--', color='gray', alpha=0.5)\n",
    "\n",
    "plt.title('Cumulative Log-Odds Plot')\n",
    "plt.xlabel('Cumulative Log-Odds')\n",
    "plt.ylabel('Cumulative proportion')\n",
    "plt.show()\n"
   ]
  },
  {
   "cell_type": "markdown",
   "id": "4dca82ca",
   "metadata": {},
   "source": [
    "Going to use log-odds (logit links). Need to translate probability to log-odds. \n",
    "\n",
    "Gives cumulative log-odds. Each point is the cutpoint\n",
    "\n",
    "The number of cutpoints you need is 1 less that the number of outcomes, last one is free and is whatever is left over. The outcomes live inthe gaps between the cuts, last one lives off to the right into infinity because everything after that cutpoint must be 7 (in our example).  \n",
    "\n",
    "Pr(R = k) = Pr(R<= 3) - Pr(R<=2)\n",
    "\n",
    "Gives discrete categories, force order. \n",
    "\n",
    "log(Pr(R <= k) / (1-Pr(R<=k)) = a\n",
    "\n",
    "left is cumulative log odds\n",
    "a is the cutpoint to estimate \n"
   ]
  },
  {
   "cell_type": "markdown",
   "id": "010a077e",
   "metadata": {},
   "source": [
    "## Where's the GLM?\n",
    "\n",
    "So far just estimating the histogram\n",
    "\n",
    "How to make it a function of variables?\n",
    "\n",
    "1) Stratify cutpoints\n",
    "\n",
    "2) Offset each cutpoint by value of linear model  phi. \n",
    "\n",
    "Ri ~ OrderedLogit(phi,alpha)\n",
    "\n",
    "bigger phis give you smaller average responses, opposite for smaller phis. usually subtract phi . "
   ]
  },
  {
   "cell_type": "code",
   "execution_count": 6,
   "id": "9431fb2b",
   "metadata": {},
   "outputs": [
    {
     "data": {
      "text/plain": [
       "(9930,)"
      ]
     },
     "execution_count": 6,
     "metadata": {},
     "output_type": "execute_result"
    }
   ],
   "source": [
    "trolley['action'].shape"
   ]
  },
  {
   "cell_type": "code",
   "execution_count": 7,
   "id": "3d91ebeb",
   "metadata": {},
   "outputs": [
    {
     "data": {
      "text/plain": [
       "array([3, 2, 3, ..., 6, 1, 1], dtype=int64)"
      ]
     },
     "execution_count": 7,
     "metadata": {},
     "output_type": "execute_result"
    }
   ],
   "source": [
    "trolley['response'].values -1"
   ]
  },
  {
   "cell_type": "code",
   "execution_count": 10,
   "id": "b3528033",
   "metadata": {},
   "outputs": [
    {
     "name": "stderr",
     "output_type": "stream",
     "text": [
      "C:\\Users\\kmcg2831\\AppData\\Local\\Temp\\ipykernel_12860\\1305428230.py:10: FutureWarning: The `testval` argument is deprecated; use `initval`.\n",
      "  cutpoints = pm.Normal(\n"
     ]
    },
    {
     "ename": "AttributeError",
     "evalue": "'RandomGeneratorSharedVariable' object has no attribute 'shape'",
     "output_type": "error",
     "traceback": [
      "\u001b[1;31m---------------------------------------------------------------------------\u001b[0m",
      "\u001b[1;31mAttributeError\u001b[0m                            Traceback (most recent call last)",
      "Cell \u001b[1;32mIn[10], line 10\u001b[0m\n\u001b[0;32m      6\u001b[0m R     \u001b[38;5;241m=\u001b[39m pm\u001b[38;5;241m.\u001b[39mMutableData(\u001b[38;5;124m'\u001b[39m\u001b[38;5;124mR\u001b[39m\u001b[38;5;124m'\u001b[39m,trolley[\u001b[38;5;124m'\u001b[39m\u001b[38;5;124mresponse\u001b[39m\u001b[38;5;124m'\u001b[39m]\u001b[38;5;241m.\u001b[39mvalues \u001b[38;5;241m-\u001b[39m\u001b[38;5;241m1\u001b[39m) \u001b[38;5;66;03m# 0-6 instead of 1-7\u001b[39;00m\n\u001b[0;32m      8\u001b[0m \u001b[38;5;66;03m#Cutpoints instead of alpha\u001b[39;00m\n\u001b[0;32m      9\u001b[0m \u001b[38;5;66;03m#cutpoints = pm.Normal('cutpoints',0,1)#,transform = pm.distributions.transforms.ordered)#,shape=6)\u001b[39;00m\n\u001b[1;32m---> 10\u001b[0m cutpoints \u001b[38;5;241m=\u001b[39m \u001b[43mpm\u001b[49m\u001b[38;5;241;43m.\u001b[39;49m\u001b[43mNormal\u001b[49m\u001b[43m(\u001b[49m\n\u001b[0;32m     11\u001b[0m \u001b[43m    \u001b[49m\u001b[38;5;124;43m\"\u001b[39;49m\u001b[38;5;124;43mcutpoints\u001b[39;49m\u001b[38;5;124;43m\"\u001b[39;49m\u001b[43m,\u001b[49m\n\u001b[0;32m     12\u001b[0m \u001b[43m    \u001b[49m\u001b[38;5;241;43m0.0\u001b[39;49m\u001b[43m,\u001b[49m\n\u001b[0;32m     13\u001b[0m \u001b[43m    \u001b[49m\u001b[38;5;241;43m1.5\u001b[39;49m\u001b[43m,\u001b[49m\n\u001b[0;32m     14\u001b[0m \u001b[43m    \u001b[49m\u001b[43mtransform\u001b[49m\u001b[38;5;241;43m=\u001b[39;49m\u001b[43mpm\u001b[49m\u001b[38;5;241;43m.\u001b[39;49m\u001b[43mdistributions\u001b[49m\u001b[38;5;241;43m.\u001b[39;49m\u001b[43mtransforms\u001b[49m\u001b[38;5;241;43m.\u001b[39;49m\u001b[43mOrdered\u001b[49m\u001b[43m,\u001b[49m\n\u001b[0;32m     15\u001b[0m \u001b[43m    \u001b[49m\u001b[43mshape\u001b[49m\u001b[38;5;241;43m=\u001b[39;49m\u001b[38;5;241;43m6\u001b[39;49m\u001b[43m,\u001b[49m\n\u001b[0;32m     16\u001b[0m \u001b[43m    \u001b[49m\u001b[43mtestval\u001b[49m\u001b[38;5;241;43m=\u001b[39;49m\u001b[43mnp\u001b[49m\u001b[38;5;241;43m.\u001b[39;49m\u001b[43marange\u001b[49m\u001b[43m(\u001b[49m\u001b[38;5;241;43m6\u001b[39;49m\u001b[43m)\u001b[49m\u001b[43m \u001b[49m\u001b[38;5;241;43m-\u001b[39;49m\u001b[43m \u001b[49m\u001b[38;5;241;43m2.5\u001b[39;49m\u001b[43m,\u001b[49m\n\u001b[0;32m     17\u001b[0m \u001b[43m\u001b[49m\u001b[43m)\u001b[49m\n\u001b[0;32m     18\u001b[0m bA    \u001b[38;5;241m=\u001b[39m pm\u001b[38;5;241m.\u001b[39mNormal(\u001b[38;5;124m'\u001b[39m\u001b[38;5;124mbA\u001b[39m\u001b[38;5;124m'\u001b[39m,\u001b[38;5;241m0\u001b[39m,\u001b[38;5;241m0.5\u001b[39m)\u001b[38;5;66;03m#,transform = pm.distributions.transforms.ordered)\u001b[39;00m\n\u001b[0;32m     19\u001b[0m bI    \u001b[38;5;241m=\u001b[39m pm\u001b[38;5;241m.\u001b[39mNormal(\u001b[38;5;124m'\u001b[39m\u001b[38;5;124mbI\u001b[39m\u001b[38;5;124m'\u001b[39m,\u001b[38;5;241m0\u001b[39m,\u001b[38;5;241m0.5\u001b[39m)\u001b[38;5;66;03m#,transform = pm.distributions.transforms.ordered)#shape=trolley['intention'].nunique())\u001b[39;00m\n",
      "File \u001b[1;32m~\\OneDrive - The University of Sydney (Staff)\\Documents\\Statistical-Rethinking-2023-Python-Notes\\rethinking\\Lib\\site-packages\\pymc\\distributions\\distribution.py:310\u001b[0m, in \u001b[0;36mDistribution.__new__\u001b[1;34m(cls, name, rng, dims, initval, observed, total_size, transform, *args, **kwargs)\u001b[0m\n\u001b[0;32m    306\u001b[0m         kwargs[\u001b[38;5;124m\"\u001b[39m\u001b[38;5;124mshape\u001b[39m\u001b[38;5;124m\"\u001b[39m] \u001b[38;5;241m=\u001b[39m \u001b[38;5;28mtuple\u001b[39m(observed\u001b[38;5;241m.\u001b[39mshape)\n\u001b[0;32m    308\u001b[0m rv_out \u001b[38;5;241m=\u001b[39m \u001b[38;5;28mcls\u001b[39m\u001b[38;5;241m.\u001b[39mdist(\u001b[38;5;241m*\u001b[39margs, \u001b[38;5;241m*\u001b[39m\u001b[38;5;241m*\u001b[39mkwargs)\n\u001b[1;32m--> 310\u001b[0m rv_out \u001b[38;5;241m=\u001b[39m \u001b[43mmodel\u001b[49m\u001b[38;5;241;43m.\u001b[39;49m\u001b[43mregister_rv\u001b[49m\u001b[43m(\u001b[49m\n\u001b[0;32m    311\u001b[0m \u001b[43m    \u001b[49m\u001b[43mrv_out\u001b[49m\u001b[43m,\u001b[49m\n\u001b[0;32m    312\u001b[0m \u001b[43m    \u001b[49m\u001b[43mname\u001b[49m\u001b[43m,\u001b[49m\n\u001b[0;32m    313\u001b[0m \u001b[43m    \u001b[49m\u001b[43mobserved\u001b[49m\u001b[43m,\u001b[49m\n\u001b[0;32m    314\u001b[0m \u001b[43m    \u001b[49m\u001b[43mtotal_size\u001b[49m\u001b[43m,\u001b[49m\n\u001b[0;32m    315\u001b[0m \u001b[43m    \u001b[49m\u001b[43mdims\u001b[49m\u001b[38;5;241;43m=\u001b[39;49m\u001b[43mdims\u001b[49m\u001b[43m,\u001b[49m\n\u001b[0;32m    316\u001b[0m \u001b[43m    \u001b[49m\u001b[43mtransform\u001b[49m\u001b[38;5;241;43m=\u001b[39;49m\u001b[43mtransform\u001b[49m\u001b[43m,\u001b[49m\n\u001b[0;32m    317\u001b[0m \u001b[43m    \u001b[49m\u001b[43minitval\u001b[49m\u001b[38;5;241;43m=\u001b[39;49m\u001b[43minitval\u001b[49m\u001b[43m,\u001b[49m\n\u001b[0;32m    318\u001b[0m \u001b[43m\u001b[49m\u001b[43m)\u001b[49m\n\u001b[0;32m    320\u001b[0m \u001b[38;5;66;03m# add in pretty-printing support\u001b[39;00m\n\u001b[0;32m    321\u001b[0m rv_out\u001b[38;5;241m.\u001b[39mstr_repr \u001b[38;5;241m=\u001b[39m types\u001b[38;5;241m.\u001b[39mMethodType(str_for_dist, rv_out)\n",
      "File \u001b[1;32m~\\OneDrive - The University of Sydney (Staff)\\Documents\\Statistical-Rethinking-2023-Python-Notes\\rethinking\\Lib\\site-packages\\pymc\\model.py:1325\u001b[0m, in \u001b[0;36mModel.register_rv\u001b[1;34m(self, rv_var, name, observed, total_size, dims, transform, initval)\u001b[0m\n\u001b[0;32m   1323\u001b[0m \u001b[38;5;28;01mif\u001b[39;00m observed \u001b[38;5;129;01mis\u001b[39;00m \u001b[38;5;28;01mNone\u001b[39;00m:\n\u001b[0;32m   1324\u001b[0m     \u001b[38;5;28mself\u001b[39m\u001b[38;5;241m.\u001b[39mfree_RVs\u001b[38;5;241m.\u001b[39mappend(rv_var)\n\u001b[1;32m-> 1325\u001b[0m     \u001b[38;5;28;43mself\u001b[39;49m\u001b[38;5;241;43m.\u001b[39;49m\u001b[43mcreate_value_var\u001b[49m\u001b[43m(\u001b[49m\u001b[43mrv_var\u001b[49m\u001b[43m,\u001b[49m\u001b[43m \u001b[49m\u001b[43mtransform\u001b[49m\u001b[43m)\u001b[49m\n\u001b[0;32m   1326\u001b[0m     \u001b[38;5;28mself\u001b[39m\u001b[38;5;241m.\u001b[39madd_named_variable(rv_var, dims)\n\u001b[0;32m   1327\u001b[0m     \u001b[38;5;28mself\u001b[39m\u001b[38;5;241m.\u001b[39mset_initval(rv_var, initval)\n",
      "File \u001b[1;32m~\\OneDrive - The University of Sydney (Staff)\\Documents\\Statistical-Rethinking-2023-Python-Notes\\rethinking\\Lib\\site-packages\\pymc\\model.py:1509\u001b[0m, in \u001b[0;36mModel.create_value_var\u001b[1;34m(self, rv_var, transform, value_var)\u001b[0m\n\u001b[0;32m   1506\u001b[0m         value_var\u001b[38;5;241m.\u001b[39mtag\u001b[38;5;241m.\u001b[39mtest_value \u001b[38;5;241m=\u001b[39m rv_var\u001b[38;5;241m.\u001b[39mtag\u001b[38;5;241m.\u001b[39mtest_value\n\u001b[0;32m   1507\u001b[0m \u001b[38;5;28;01melse\u001b[39;00m:\n\u001b[0;32m   1508\u001b[0m     \u001b[38;5;66;03m# Create value variable with the same type as the transformed RV\u001b[39;00m\n\u001b[1;32m-> 1509\u001b[0m     value_var \u001b[38;5;241m=\u001b[39m \u001b[43mtransform\u001b[49m\u001b[38;5;241;43m.\u001b[39;49m\u001b[43mforward\u001b[49m\u001b[43m(\u001b[49m\u001b[43mrv_var\u001b[49m\u001b[43m,\u001b[49m\u001b[43m \u001b[49m\u001b[38;5;241;43m*\u001b[39;49m\u001b[43mrv_var\u001b[49m\u001b[38;5;241;43m.\u001b[39;49m\u001b[43mowner\u001b[49m\u001b[38;5;241;43m.\u001b[39;49m\u001b[43minputs\u001b[49m\u001b[43m)\u001b[49m\u001b[38;5;241m.\u001b[39mtype()\n\u001b[0;32m   1510\u001b[0m     value_var\u001b[38;5;241m.\u001b[39mname \u001b[38;5;241m=\u001b[39m \u001b[38;5;124mf\u001b[39m\u001b[38;5;124m\"\u001b[39m\u001b[38;5;132;01m{\u001b[39;00mrv_var\u001b[38;5;241m.\u001b[39mname\u001b[38;5;132;01m}\u001b[39;00m\u001b[38;5;124m_\u001b[39m\u001b[38;5;132;01m{\u001b[39;00mtransform\u001b[38;5;241m.\u001b[39mname\u001b[38;5;132;01m}\u001b[39;00m\u001b[38;5;124m__\u001b[39m\u001b[38;5;124m\"\u001b[39m\n\u001b[0;32m   1511\u001b[0m     value_var\u001b[38;5;241m.\u001b[39mtag\u001b[38;5;241m.\u001b[39mtransform \u001b[38;5;241m=\u001b[39m transform\n",
      "File \u001b[1;32m~\\OneDrive - The University of Sydney (Staff)\\Documents\\Statistical-Rethinking-2023-Python-Notes\\rethinking\\Lib\\site-packages\\pymc\\distributions\\transforms.py:95\u001b[0m, in \u001b[0;36mOrdered.forward\u001b[1;34m(self, value, *inputs)\u001b[0m\n\u001b[0;32m     94\u001b[0m \u001b[38;5;28;01mdef\u001b[39;00m \u001b[38;5;21mforward\u001b[39m(\u001b[38;5;28mself\u001b[39m, value, \u001b[38;5;241m*\u001b[39minputs):\n\u001b[1;32m---> 95\u001b[0m     y \u001b[38;5;241m=\u001b[39m at\u001b[38;5;241m.\u001b[39mzeros(\u001b[43mvalue\u001b[49m\u001b[38;5;241;43m.\u001b[39;49m\u001b[43mshape\u001b[49m)\n\u001b[0;32m     96\u001b[0m     y \u001b[38;5;241m=\u001b[39m at\u001b[38;5;241m.\u001b[39minc_subtensor(y[\u001b[38;5;241m.\u001b[39m\u001b[38;5;241m.\u001b[39m\u001b[38;5;241m.\u001b[39m, \u001b[38;5;241m0\u001b[39m], value[\u001b[38;5;241m.\u001b[39m\u001b[38;5;241m.\u001b[39m\u001b[38;5;241m.\u001b[39m, \u001b[38;5;241m0\u001b[39m])\n\u001b[0;32m     97\u001b[0m     y \u001b[38;5;241m=\u001b[39m at\u001b[38;5;241m.\u001b[39minc_subtensor(y[\u001b[38;5;241m.\u001b[39m\u001b[38;5;241m.\u001b[39m\u001b[38;5;241m.\u001b[39m, \u001b[38;5;241m1\u001b[39m:], at\u001b[38;5;241m.\u001b[39mlog(value[\u001b[38;5;241m.\u001b[39m\u001b[38;5;241m.\u001b[39m\u001b[38;5;241m.\u001b[39m, \u001b[38;5;241m1\u001b[39m:] \u001b[38;5;241m-\u001b[39m value[\u001b[38;5;241m.\u001b[39m\u001b[38;5;241m.\u001b[39m\u001b[38;5;241m.\u001b[39m, :\u001b[38;5;241m-\u001b[39m\u001b[38;5;241m1\u001b[39m]))\n",
      "\u001b[1;31mAttributeError\u001b[0m: 'RandomGeneratorSharedVariable' object has no attribute 'shape'"
     ]
    }
   ],
   "source": [
    "# Starting off easy\n",
    "with pm.Model() as easy_trolley:\n",
    "    A     = pm.MutableData('A',trolley['action'].values)\n",
    "    I     = pm.MutableData('I',trolley['intention'].values)\n",
    "    C     = pm.MutableData('C',trolley['contact'].values)\n",
    "    R     = pm.MutableData('R',trolley['response'].values -1) # 0-6 instead of 1-7\n",
    "    \n",
    "    #Cutpoints instead of alpha\n",
    "    #cutpoints = pm.Normal('cutpoints',0,1)#,transform = pm.distributions.transforms.ordered)#,shape=6)\n",
    "    cutpoints = pm.Normal(\n",
    "        \"cutpoints\",\n",
    "        0.0,\n",
    "        1.5,\n",
    "        transform=pm.distributions.transforms.Ordered,\n",
    "        shape=6,\n",
    "        testval=np.arange(6) - 2.5,\n",
    "    )\n",
    "    bA    = pm.Normal('bA',0,0.5)\n",
    "    bI    = pm.Normal('bI',0,0.5)\n",
    "    bC    = pm.Normal('bC',0,0.5)\n",
    "    \n",
    "    phi   = pm.Deterministic('phi',bA*A + bI*I + bC*C)\n",
    "    \n",
    "    Response     = pm.OrderedLogistic('Response', cutpoints=cutpoints,eta = phi,observed=R,shape=R.shape)\n",
    "    easy_trace = pm.sample()\n",
    "    \n",
    "    #Doesn't like the shape thing, very odd"
   ]
  },
  {
   "cell_type": "markdown",
   "id": "3599edd4",
   "metadata": {},
   "source": [
    "## Will continue to fix these models, not sure why they're breaking"
   ]
  },
  {
   "cell_type": "markdown",
   "id": "f4d6aa2c",
   "metadata": {},
   "source": [
    "Voluntary sample, participation P is influenced by E, Y and G. \n",
    "\n",
    "Thus E,Y,G covary in sample. P is a collider"
   ]
  },
  {
   "cell_type": "markdown",
   "id": "478e7480",
   "metadata": {},
   "source": [
    "## Endogenous Selection\n",
    "\n",
    "Sample is selectd on a collider\n",
    "\n",
    "Induces misleading associations among variables\n",
    "\n",
    "Not possible here to estimate total effect of G, BUT can get direct effect\n",
    "\n",
    "Need to stratify by E and Y and G \n"
   ]
  },
  {
   "cell_type": "markdown",
   "id": "f48f1eef",
   "metadata": {},
   "source": [
    "## Ordered monotonic predictors\n",
    "\n",
    "Education is an ordered category\n",
    "\n",
    "Unlikely that each level has same effect\n",
    "\n",
    "Want a parameter for each level\n",
    "\n",
    "But how to enforce ordering, so that each level has larger? (or smaller) effect that previous?\n",
    "\n",
    "Each increment will get a new increment\n",
    "\n",
    "1 = phi = 0\n",
    "2 = phi = del1\n",
    "3 = phi = del1 + del2 \n",
    "\n",
    "phi = B * education level*proportion of maximum effect)\n",
    "\n",
    "\n",
    "How do we set priors for the delta parameters?\n",
    "\n",
    "delta parameters form a simplex\n",
    "\n",
    "Simplex: vector that sums to 1\n",
    "\n",
    "del ~ Dirichlet(a)\n",
    "a = [some vector]\n",
    "\n",
    "The bigger the elements of the a are, the smaller the difference between them .\n",
    "\n"
   ]
  },
  {
   "cell_type": "code",
   "execution_count": null,
   "id": "b2f1951c",
   "metadata": {},
   "outputs": [],
   "source": [
    "with pm.Model() as gender_m:\n",
    "    delta = "
   ]
  }
 ],
 "metadata": {
  "kernelspec": {
   "display_name": "Python 3 (ipykernel)",
   "language": "python",
   "name": "python3"
  },
  "language_info": {
   "codemirror_mode": {
    "name": "ipython",
    "version": 3
   },
   "file_extension": ".py",
   "mimetype": "text/x-python",
   "name": "python",
   "nbconvert_exporter": "python",
   "pygments_lexer": "ipython3",
   "version": "3.11.0"
  }
 },
 "nbformat": 4,
 "nbformat_minor": 5
}
