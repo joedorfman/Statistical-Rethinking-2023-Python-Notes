{
 "cells": [
  {
   "cell_type": "code",
   "execution_count": 1,
   "id": "0e771dff",
   "metadata": {},
   "outputs": [],
   "source": [
    "import scipy.stats as stats\n",
    "import numpy as np\n",
    "import matplotlib.pyplot as plt\n",
    "import pymc as pm\n",
    "import arviz as az\n",
    "import bambi\n",
    "import pandas as pd\n",
    "import xarray as xr\n",
    "from sklearn.preprocessing import scale\n",
    "import scipy"
   ]
  },
  {
   "cell_type": "markdown",
   "id": "1fd89263",
   "metadata": {},
   "source": [
    "# Over and Under Fitting\n",
    "\n",
    "Details of estimation, after an estimator has been constructed. \n",
    "\n",
    "The estimator might exist, but not be useful\n",
    "\n",
    "Sample is finite, getting efficient estimators is difficult. \n",
    "\n",
    "**Struggle against Causation**: How to use causal assumptions to design estimators, contrast alternative models\n",
    "\n",
    "**Struggle against data**: How to make estimators work"
   ]
  },
  {
   "cell_type": "markdown",
   "id": "5bbcdbe9",
   "metadata": {},
   "source": [
    "## Problems of Prediction\n",
    "\n",
    "- What function describes these points? (**fitting, compression**)\n",
    "\n",
    "- What function explains the points? (**causal inference**)\n",
    "\n",
    "- What would happen if we changed a point? (**intervention**)\n",
    "\n",
    "- What is the next observation from the same process? (**prediction**)"
   ]
  },
  {
   "cell_type": "markdown",
   "id": "3c1c732f",
   "metadata": {},
   "source": [
    "## Leave-one-out cross-validation (LOO)\n",
    "\n",
    "1) Drop one point\n",
    "2) Fit line to remaining\n",
    "3) Predict dropped point\n",
    "4) Repeat (1) with next point\n",
    "5) Score is error on dropped \n",
    "\n",
    "Do not compare on the In score, compare them on the Out score. \n",
    "\n",
    "Log pointwise predictive density (predictive distribution).\n",
    "\n",
    "General intuition for simple models: Flexibility leads to lower In score, higher out score, Overfitting to the data and leading to increase in error on the out of sample. "
   ]
  },
  {
   "cell_type": "markdown",
   "id": "2e1ecb3f",
   "metadata": {},
   "source": [
    "## Regularization\n",
    "\n",
    "Overfitting depends upon the priors\n",
    "\n",
    "Skeptical priors have tighter variance, reduce flexibility\n",
    "\n",
    "**Regulatization**: Function finds regular features of process\n",
    "\n",
    "Good priors are often tighter than you think.\n",
    "\n",
    "Bayesian methods can use skeptical priors as one way to regularize. \n",
    "\n",
    "Want the model to learn regular features, but not learn irregular features. "
   ]
  },
  {
   "cell_type": "markdown",
   "id": "dab8c9d7",
   "metadata": {},
   "source": [
    "## Regularizing Priors\n",
    "\n",
    "How to choose the width of prior\n",
    "\n",
    "**Causal Inference**: Use science\n",
    "\n",
    "**Prediction**: Tune the prior using cross-validation\n",
    "\n",
    "Usually want to mix inference and prediction. "
   ]
  },
  {
   "cell_type": "markdown",
   "id": "15461e3d",
   "metadata": {},
   "source": [
    "## Prediction Penalty\n",
    "\n",
    "For N points, cross-validation requires fitting N moddels\n",
    "\n",
    "What if we could estimate the penalty from a single model?\n",
    "\n",
    "We can using:\n",
    "\n",
    "- Importance Sampling (PSIS)(Pareto Smoothed Importance Sampling)\n",
    "- Information criteria (WAIC)\n",
    "\n",
    "These measure overfitting while regularization manages overfitting **never pick a causal model based off these scores** "
   ]
  },
  {
   "cell_type": "markdown",
   "id": "7fdaed4d",
   "metadata": {},
   "source": [
    "## Model Mis-selection\n",
    "\n",
    "Again, do not sue predictive cristeria to choose a causal estimate. (Causal estimate is prediction in presence of intervention)\n",
    "\n",
    "Predictive criteria actually prefer confounds & colliders.\n",
    "\n",
    "Conditioning on things like colliders and post treatment variables, actually improve predictive accuracy out of sample. \n",
    "\n",
    "However, if you want to only do predictive accuracy, then you can use predictive accuracy if you like. "
   ]
  },
  {
   "cell_type": "markdown",
   "id": "53dccf8a",
   "metadata": {},
   "source": [
    "## Outliers and Robust Regression\n",
    "\n",
    "Some points are more influential than others\n",
    "\n",
    "**Outliers** : Observations in the tails of the predictive distribution\n",
    "\n",
    "Outliers indicate predications are possible overconfident, unreliable\n",
    "\n",
    "The model doesn't expect enough variation\n",
    "\n",
    "Is the model mispecified? Not taking into account the info provided by the outliers?\n",
    "\n",
    "Dropping outliers is bad: Just ignores the problem and still leads to bad predictions\n",
    "\n",
    "Need to fix the model, not the data\n",
    "\n",
    "### How to fix:\n",
    "\n",
    "1) Need to quantify the influence of each point\n",
    "\n",
    "2) Use a mixture model (robust regression)\n"
   ]
  },
  {
   "cell_type": "code",
   "execution_count": 2,
   "id": "9eec3183",
   "metadata": {},
   "outputs": [
    {
     "data": {
      "text/html": [
       "<div>\n",
       "<style scoped>\n",
       "    .dataframe tbody tr th:only-of-type {\n",
       "        vertical-align: middle;\n",
       "    }\n",
       "\n",
       "    .dataframe tbody tr th {\n",
       "        vertical-align: top;\n",
       "    }\n",
       "\n",
       "    .dataframe thead th {\n",
       "        text-align: right;\n",
       "    }\n",
       "</style>\n",
       "<table border=\"1\" class=\"dataframe\">\n",
       "  <thead>\n",
       "    <tr style=\"text-align: right;\">\n",
       "      <th></th>\n",
       "      <th>Location</th>\n",
       "      <th>Loc</th>\n",
       "      <th>Population</th>\n",
       "      <th>MedianAgeMarriage</th>\n",
       "      <th>Marriage</th>\n",
       "      <th>Marriage SE</th>\n",
       "      <th>Divorce</th>\n",
       "      <th>Divorce SE</th>\n",
       "      <th>WaffleHouses</th>\n",
       "      <th>South</th>\n",
       "      <th>Slaves1860</th>\n",
       "      <th>Population1860</th>\n",
       "      <th>PropSlaves1860</th>\n",
       "    </tr>\n",
       "  </thead>\n",
       "  <tbody>\n",
       "    <tr>\n",
       "      <th>0</th>\n",
       "      <td>Alabama</td>\n",
       "      <td>AL</td>\n",
       "      <td>4.78</td>\n",
       "      <td>25.3</td>\n",
       "      <td>20.2</td>\n",
       "      <td>1.27</td>\n",
       "      <td>12.7</td>\n",
       "      <td>0.79</td>\n",
       "      <td>128</td>\n",
       "      <td>1</td>\n",
       "      <td>435080</td>\n",
       "      <td>964201</td>\n",
       "      <td>0.45</td>\n",
       "    </tr>\n",
       "    <tr>\n",
       "      <th>1</th>\n",
       "      <td>Alaska</td>\n",
       "      <td>AK</td>\n",
       "      <td>0.71</td>\n",
       "      <td>25.2</td>\n",
       "      <td>26.0</td>\n",
       "      <td>2.93</td>\n",
       "      <td>12.5</td>\n",
       "      <td>2.05</td>\n",
       "      <td>0</td>\n",
       "      <td>0</td>\n",
       "      <td>0</td>\n",
       "      <td>0</td>\n",
       "      <td>0.00</td>\n",
       "    </tr>\n",
       "    <tr>\n",
       "      <th>2</th>\n",
       "      <td>Arizona</td>\n",
       "      <td>AZ</td>\n",
       "      <td>6.33</td>\n",
       "      <td>25.8</td>\n",
       "      <td>20.3</td>\n",
       "      <td>0.98</td>\n",
       "      <td>10.8</td>\n",
       "      <td>0.74</td>\n",
       "      <td>18</td>\n",
       "      <td>0</td>\n",
       "      <td>0</td>\n",
       "      <td>0</td>\n",
       "      <td>0.00</td>\n",
       "    </tr>\n",
       "    <tr>\n",
       "      <th>3</th>\n",
       "      <td>Arkansas</td>\n",
       "      <td>AR</td>\n",
       "      <td>2.92</td>\n",
       "      <td>24.3</td>\n",
       "      <td>26.4</td>\n",
       "      <td>1.70</td>\n",
       "      <td>13.5</td>\n",
       "      <td>1.22</td>\n",
       "      <td>41</td>\n",
       "      <td>1</td>\n",
       "      <td>111115</td>\n",
       "      <td>435450</td>\n",
       "      <td>0.26</td>\n",
       "    </tr>\n",
       "    <tr>\n",
       "      <th>4</th>\n",
       "      <td>California</td>\n",
       "      <td>CA</td>\n",
       "      <td>37.25</td>\n",
       "      <td>26.8</td>\n",
       "      <td>19.1</td>\n",
       "      <td>0.39</td>\n",
       "      <td>8.0</td>\n",
       "      <td>0.24</td>\n",
       "      <td>0</td>\n",
       "      <td>0</td>\n",
       "      <td>0</td>\n",
       "      <td>379994</td>\n",
       "      <td>0.00</td>\n",
       "    </tr>\n",
       "  </tbody>\n",
       "</table>\n",
       "</div>"
      ],
      "text/plain": [
       "     Location Loc  Population  MedianAgeMarriage  Marriage  Marriage SE  \\\n",
       "0     Alabama  AL        4.78               25.3      20.2         1.27   \n",
       "1      Alaska  AK        0.71               25.2      26.0         2.93   \n",
       "2     Arizona  AZ        6.33               25.8      20.3         0.98   \n",
       "3    Arkansas  AR        2.92               24.3      26.4         1.70   \n",
       "4  California  CA       37.25               26.8      19.1         0.39   \n",
       "\n",
       "   Divorce  Divorce SE  WaffleHouses  South  Slaves1860  Population1860  \\\n",
       "0     12.7        0.79           128      1      435080          964201   \n",
       "1     12.5        2.05             0      0           0               0   \n",
       "2     10.8        0.74            18      0           0               0   \n",
       "3     13.5        1.22            41      1      111115          435450   \n",
       "4      8.0        0.24             0      0           0          379994   \n",
       "\n",
       "   PropSlaves1860  \n",
       "0            0.45  \n",
       "1            0.00  \n",
       "2            0.00  \n",
       "3            0.26  \n",
       "4            0.00  "
      ]
     },
     "execution_count": 2,
     "metadata": {},
     "output_type": "execute_result"
    }
   ],
   "source": [
    "divorce = pd.read_csv('Data/WaffleDivorce.csv',sep=';')\n",
    "divorce.head()"
   ]
  },
  {
   "cell_type": "code",
   "execution_count": 3,
   "id": "dfba93b0",
   "metadata": {},
   "outputs": [
    {
     "data": {
      "text/plain": [
       "<AxesSubplot: xlabel='MedianAgeMarriage', ylabel='Divorce'>"
      ]
     },
     "execution_count": 3,
     "metadata": {},
     "output_type": "execute_result"
    },
    {
     "data": {
      "image/png": "[encoded data removed]",
      "text/plain": [
       "<Figure size 640x480 with 1 Axes>"
      ]
     },
     "metadata": {},
     "output_type": "display_data"
    }
   ],
   "source": [
    "divorce.plot.scatter(x='MedianAgeMarriage',y='Divorce',c=divorce['South'].map({1:'red',0:'blue'}))"
   ]
  },
  {
   "cell_type": "markdown",
   "id": "818c3439",
   "metadata": {},
   "source": [
    "Maine and Idaho are both unusual\n",
    "\n",
    "Maine: high divorce for trend\n",
    "\n",
    "Idaho: Low divorce for trend \n",
    "\n",
    "Principled way to quantify outliers:\n",
    "\n",
    "PSIS k statistic"
   ]
  },
  {
   "cell_type": "markdown",
   "id": "8aae35b3",
   "metadata": {},
   "source": [
    "## Mixing Gaussians\n",
    "\n",
    "- Assert that the population is the result of a mix of gaussians\n",
    "\n",
    "- When you mix gaussian distributions with the same mean, but different variances you get thicker tails. the Student-t distribution. "
   ]
  },
  {
   "cell_type": "markdown",
   "id": "93628734",
   "metadata": {},
   "source": [
    "## Student-t"
   ]
  },
  {
   "cell_type": "code",
   "execution_count": 4,
   "id": "2375031b",
   "metadata": {},
   "outputs": [
    {
     "name": "stderr",
     "output_type": "stream",
     "text": [
      "G:\\Statistical_Rethinking\\rethinking\\Lib\\site-packages\\arviz\\utils.py:184: NumbaDeprecationWarning: \u001b[1mThe 'nopython' keyword argument was not supplied to the 'numba.jit' decorator. The implicit default value for this argument is currently False, but it will be changed to True in Numba 0.59.0. See https://numba.readthedocs.io/en/stable/reference/deprecation.html#deprecation-of-object-mode-fall-back-behaviour-when-using-jit for details.\u001b[0m\n",
      "  numba_fn = numba.jit(**self.kwargs)(self.function)\n"
     ]
    },
    {
     "data": {
      "text/plain": [
       "(-10.0, 10.0)"
      ]
     },
     "execution_count": 4,
     "metadata": {},
     "output_type": "execute_result"
    },
    {
     "data": {
      "image/png": "[encoded data removed]",
      "text/plain": [
       "<Figure size 1472x552 with 2 Axes>"
      ]
     },
     "metadata": {},
     "output_type": "display_data"
    }
   ],
   "source": [
    "az.plot_posterior({'Normal': np.random.normal(size=10000),'Student t':np.random.standard_t(df=2, size = 10000)})\n",
    "plt.xlim(-10,10)\n",
    "#az.plot_posterior(np.random.standard_t(df=2, size = 10000))"
   ]
  },
  {
   "cell_type": "markdown",
   "id": "7380a7bb",
   "metadata": {},
   "source": [
    "Gaussian is very skeptical about anything outside of a few standard deviations\n",
    "\n",
    "Student-t is a lot less perturbed by outliers, a lot less skeptical. "
   ]
  },
  {
   "cell_type": "code",
   "execution_count": 5,
   "id": "249cff76",
   "metadata": {},
   "outputs": [],
   "source": [
    "A = scale(divorce['MedianAgeMarriage'])\n",
    "D = scale(divorce['Divorce'])\n",
    "M = scale(divorce['Marriage'])"
   ]
  },
  {
   "cell_type": "code",
   "execution_count": 6,
   "id": "cba07105",
   "metadata": {},
   "outputs": [
    {
     "name": "stderr",
     "output_type": "stream",
     "text": [
      "Auto-assigning NUTS sampler...\n",
      "Initializing NUTS using jitter+adapt_diag...\n",
      "Multiprocess sampling (4 chains in 4 jobs)\n",
      "NUTS: [sigma, bA, bM, a]\n"
     ]
    },
    {
     "data": {
      "text/html": [
       "\n",
       "<style>\n",
       "    /* Turns off some styling */\n",
       "    progress {\n",
       "        /* gets rid of default border in Firefox and Opera. */\n",
       "        border: none;\n",
       "        /* Needs to be in here for Safari polyfill so background images work as expected. */\n",
       "        background-size: auto;\n",
       "    }\n",
       "    progress:not([value]), progress:not([value])::-webkit-progress-bar {\n",
       "        background: repeating-linear-gradient(45deg, #7e7e7e, #7e7e7e 10px, #5c5c5c 10px, #5c5c5c 20px);\n",
       "    }\n",
       "    .progress-bar-interrupted, .progress-bar-interrupted::-webkit-progress-bar {\n",
       "        background: #F44336;\n",
       "    }\n",
       "</style>\n"
      ],
      "text/plain": [
       "<IPython.core.display.HTML object>"
      ]
     },
     "metadata": {},
     "output_type": "display_data"
    },
    {
     "data": {
      "text/html": [
       "\n",
       "    <div>\n",
       "      <progress value='8000' class='' max='8000' style='width:300px; height:20px; vertical-align: middle;'></progress>\n",
       "      100.00% [8000/8000 00:04&lt;00:00 Sampling 4 chains, 0 divergences]\n",
       "    </div>\n",
       "    "
      ],
      "text/plain": [
       "<IPython.core.display.HTML object>"
      ]
     },
     "metadata": {},
     "output_type": "display_data"
    },
    {
     "name": "stderr",
     "output_type": "stream",
     "text": [
      "Sampling 4 chains for 1_000 tune and 1_000 draw iterations (4_000 + 4_000 draws total) took 15 seconds.\n",
      "G:\\Statistical_Rethinking\\rethinking\\Lib\\site-packages\\arviz\\utils.py:184: NumbaDeprecationWarning: \u001b[1mThe 'nopython' keyword argument was not supplied to the 'numba.jit' decorator. The implicit default value for this argument is currently False, but it will be changed to True in Numba 0.59.0. See https://numba.readthedocs.io/en/stable/reference/deprecation.html#deprecation-of-object-mode-fall-back-behaviour-when-using-jit for details.\u001b[0m\n",
      "  numba_fn = numba.jit(**self.kwargs)(self.function)\n"
     ]
    }
   ],
   "source": [
    "with pm.Model() as n_model:\n",
    "    sigma = pm.Exponential('sigma',1)\n",
    "    bA    = pm.Normal('bA',0,0.5)\n",
    "    bM    = pm.Normal('bM',0,0.5)\n",
    "    a     = pm.Normal('a',0,0.5)\n",
    "    \n",
    "    mu = a + bM*M + bA*A\n",
    "    \n",
    "    Dmod = pm.Normal('D',mu,sigma,observed = D)\n",
    "    \n",
    "    n_sample = pm.sample()"
   ]
  },
  {
   "cell_type": "code",
   "execution_count": 7,
   "id": "69a06eef",
   "metadata": {},
   "outputs": [
    {
     "name": "stderr",
     "output_type": "stream",
     "text": [
      "Auto-assigning NUTS sampler...\n",
      "Initializing NUTS using jitter+adapt_diag...\n",
      "Multiprocess sampling (4 chains in 4 jobs)\n",
      "NUTS: [sigma, bA, bM, a]\n"
     ]
    },
    {
     "data": {
      "text/html": [
       "\n",
       "<style>\n",
       "    /* Turns off some styling */\n",
       "    progress {\n",
       "        /* gets rid of default border in Firefox and Opera. */\n",
       "        border: none;\n",
       "        /* Needs to be in here for Safari polyfill so background images work as expected. */\n",
       "        background-size: auto;\n",
       "    }\n",
       "    progress:not([value]), progress:not([value])::-webkit-progress-bar {\n",
       "        background: repeating-linear-gradient(45deg, #7e7e7e, #7e7e7e 10px, #5c5c5c 10px, #5c5c5c 20px);\n",
       "    }\n",
       "    .progress-bar-interrupted, .progress-bar-interrupted::-webkit-progress-bar {\n",
       "        background: #F44336;\n",
       "    }\n",
       "</style>\n"
      ],
      "text/plain": [
       "<IPython.core.display.HTML object>"
      ]
     },
     "metadata": {},
     "output_type": "display_data"
    },
    {
     "data": {
      "text/html": [
       "\n",
       "    <div>\n",
       "      <progress value='8000' class='' max='8000' style='width:300px; height:20px; vertical-align: middle;'></progress>\n",
       "      100.00% [8000/8000 00:03&lt;00:00 Sampling 4 chains, 0 divergences]\n",
       "    </div>\n",
       "    "
      ],
      "text/plain": [
       "<IPython.core.display.HTML object>"
      ]
     },
     "metadata": {},
     "output_type": "display_data"
    },
    {
     "name": "stderr",
     "output_type": "stream",
     "text": [
      "Sampling 4 chains for 1_000 tune and 1_000 draw iterations (4_000 + 4_000 draws total) took 15 seconds.\n"
     ]
    }
   ],
   "source": [
    "with pm.Model() as t_model:\n",
    "    sigma = pm.Exponential('sigma',1)\n",
    "    bA    = pm.Normal('bA',0,0.5)\n",
    "    bM    = pm.Normal('bM',0,0.5)\n",
    "    a     = pm.Normal('a',0,0.5)\n",
    "    \n",
    "    mu = a + bM*M + bA*A\n",
    "    \n",
    "    Dmod = pm.StudentT('D',mu=mu,sigma=sigma,nu=2,observed = D)\n",
    "    \n",
    "    t_sample = pm.sample()"
   ]
  },
  {
   "cell_type": "code",
   "execution_count": 8,
   "id": "11d05be9",
   "metadata": {
    "scrolled": false
   },
   "outputs": [
    {
     "data": {
      "text/plain": [
       "<AxesSubplot: >"
      ]
     },
     "execution_count": 8,
     "metadata": {},
     "output_type": "execute_result"
    },
    {
     "data": {
      "image/png": "[encoded data removed]",
      "text/plain": [
       "<Figure size 640x480 with 1 Axes>"
      ]
     },
     "metadata": {},
     "output_type": "display_data"
    }
   ],
   "source": [
    "az.plot_dist(t_sample.posterior['bA'],color='C0',label='Student-t')\n",
    "az.plot_dist(n_sample.posterior['bA'],color='C1',label='Gaussian')\n",
    "#Note Student-t gives a stronger relationship"
   ]
  },
  {
   "cell_type": "markdown",
   "id": "68aeea10",
   "metadata": {},
   "source": [
    "## Pareto smoothed importance sampling with pymc and arviz"
   ]
  },
  {
   "cell_type": "code",
   "execution_count": 10,
   "id": "d469737f",
   "metadata": {},
   "outputs": [
    {
     "data": {
      "text/html": [
       "\n",
       "<style>\n",
       "    /* Turns off some styling */\n",
       "    progress {\n",
       "        /* gets rid of default border in Firefox and Opera. */\n",
       "        border: none;\n",
       "        /* Needs to be in here for Safari polyfill so background images work as expected. */\n",
       "        background-size: auto;\n",
       "    }\n",
       "    progress:not([value]), progress:not([value])::-webkit-progress-bar {\n",
       "        background: repeating-linear-gradient(45deg, #7e7e7e, #7e7e7e 10px, #5c5c5c 10px, #5c5c5c 20px);\n",
       "    }\n",
       "    .progress-bar-interrupted, .progress-bar-interrupted::-webkit-progress-bar {\n",
       "        background: #F44336;\n",
       "    }\n",
       "</style>\n"
      ],
      "text/plain": [
       "<IPython.core.display.HTML object>"
      ]
     },
     "metadata": {},
     "output_type": "display_data"
    },
    {
     "data": {
      "text/html": [
       "\n",
       "    <div>\n",
       "      <progress value='4000' class='' max='4000' style='width:300px; height:20px; vertical-align: middle;'></progress>\n",
       "      100.00% [4000/4000 00:00&lt;00:00]\n",
       "    </div>\n",
       "    "
      ],
      "text/plain": [
       "<IPython.core.display.HTML object>"
      ]
     },
     "metadata": {},
     "output_type": "display_data"
    },
    {
     "data": {
      "text/html": [
       "\n",
       "<style>\n",
       "    /* Turns off some styling */\n",
       "    progress {\n",
       "        /* gets rid of default border in Firefox and Opera. */\n",
       "        border: none;\n",
       "        /* Needs to be in here for Safari polyfill so background images work as expected. */\n",
       "        background-size: auto;\n",
       "    }\n",
       "    progress:not([value]), progress:not([value])::-webkit-progress-bar {\n",
       "        background: repeating-linear-gradient(45deg, #7e7e7e, #7e7e7e 10px, #5c5c5c 10px, #5c5c5c 20px);\n",
       "    }\n",
       "    .progress-bar-interrupted, .progress-bar-interrupted::-webkit-progress-bar {\n",
       "        background: #F44336;\n",
       "    }\n",
       "</style>\n"
      ],
      "text/plain": [
       "<IPython.core.display.HTML object>"
      ]
     },
     "metadata": {},
     "output_type": "display_data"
    },
    {
     "data": {
      "text/html": [
       "\n",
       "    <div>\n",
       "      <progress value='4000' class='' max='4000' style='width:300px; height:20px; vertical-align: middle;'></progress>\n",
       "      100.00% [4000/4000 00:00&lt;00:00]\n",
       "    </div>\n",
       "    "
      ],
      "text/plain": [
       "<IPython.core.display.HTML object>"
      ]
     },
     "metadata": {},
     "output_type": "display_data"
    },
    {
     "data": {
      "text/plain": [
       "Computed from 4000 posterior samples and 50 observations log-likelihood matrix.\n",
       "\n",
       "         Estimate       SE\n",
       "elpd_loo   -64.46     6.33\n",
       "p_loo        4.83        -\n",
       "------\n",
       "\n",
       "Pareto k diagnostic values:\n",
       "                         Count   Pct.\n",
       "(-Inf, 0.5]   (good)       49   98.0%\n",
       " (0.5, 0.7]   (ok)          1    2.0%\n",
       "   (0.7, 1]   (bad)         0    0.0%\n",
       "   (1, Inf)   (very bad)    0    0.0%"
      ]
     },
     "execution_count": 10,
     "metadata": {},
     "output_type": "execute_result"
    }
   ],
   "source": [
    "with n_model:\n",
    "    pm.compute_log_likelihood(n_sample,extend_inferencedata=True)\n",
    "with t_model:\n",
    "    pm.compute_log_likelihood(t_sample,extend_inferencedata=True)\n",
    "az.loo(n_sample)"
   ]
  },
  {
   "cell_type": "code",
   "execution_count": 11,
   "id": "9d4911ad",
   "metadata": {
    "scrolled": true
   },
   "outputs": [
    {
     "data": {
      "text/plain": [
       "Computed from 4000 posterior samples and 50 observations log-likelihood matrix.\n",
       "\n",
       "         Estimate       SE\n",
       "elpd_loo   -67.03     5.71\n",
       "p_loo        6.30        -\n",
       "------\n",
       "\n",
       "Pareto k diagnostic values:\n",
       "                         Count   Pct.\n",
       "(-Inf, 0.5]   (good)       50  100.0%\n",
       " (0.5, 0.7]   (ok)          0    0.0%\n",
       "   (0.7, 1]   (bad)         0    0.0%\n",
       "   (1, Inf)   (very bad)    0    0.0%"
      ]
     },
     "execution_count": 11,
     "metadata": {},
     "output_type": "execute_result"
    }
   ],
   "source": [
    "az.loo(t_sample)"
   ]
  },
  {
   "cell_type": "markdown",
   "id": "9c29dc34",
   "metadata": {},
   "source": [
    "## Robust Regressions\n",
    "Unobserved heteogeneity => mixture of Gaussians\n",
    "\n",
    "This tails means model is less surprised by sextreme values\n",
    "\n",
    "Usually impossible to estimate distribution of extreme values\n",
    "(just have to choose or simulate many and report all degrees of freedom for the student-t)\n",
    "\n",
    "Processes with thick tails, the extreme sample are sstill rare but have big effects. \n",
    "\n",
    "Student-t regression is a good default for 'under theorized domains'. Gaussian can be too skeptical. "
   ]
  },
  {
   "cell_type": "markdown",
   "id": "5f77e4d0",
   "metadata": {},
   "source": [
    "## Problems of Prediction\n",
    "\n",
    "What is the next observation from the same process? (prediction)\n",
    "\n",
    "Possible to make very good predictions without knowing causes\n",
    "\n",
    "Optimizing prediction does not reliably reveal causes\n",
    "\n",
    "Powerful tools (PSIS, regularization) for measuring and managing accuracy. "
   ]
  }
 ],
 "metadata": {
  "kernelspec": {
   "display_name": "Python 3 (ipykernel)",
   "language": "python",
   "name": "python3"
  },
  "language_info": {
   "codemirror_mode": {
    "name": "ipython",
    "version": 3
   },
   "file_extension": ".py",
   "mimetype": "text/x-python",
   "name": "python",
   "nbconvert_exporter": "python",
   "pygments_lexer": "ipython3",
   "version": "3.11.0"
  }
 },
 "nbformat": 4,
 "nbformat_minor": 5
}
