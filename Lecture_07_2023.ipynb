{
 "cells": [
  {
   "cell_type": "code",
   "execution_count": 1,
   "id": "e874f309",
   "metadata": {},
   "outputs": [],
   "source": [
    "import scipy.stats as stats\n",
    "import numpy as np\n",
    "import matplotlib.pyplot as plt\n",
    "import pymc as pm\n",
    "import arviz as az\n",
    "import bambi\n",
    "import pandas as pd\n",
    "import xarray as xr\n",
    "from sklearn.preprocessing import scale\n",
    "import scipy"
   ]
  },
  {
   "cell_type": "markdown",
   "id": "91b1faf3",
   "metadata": {},
   "source": [
    "# Over and Under Fitting\n",
    "\n",
    "Details of estimation, after an estimator has been constructed. \n",
    "\n",
    "The estimator might exist, but not be useful\n",
    "\n",
    "Sample is finite, getting efficient estimators is difficult. \n",
    "\n",
    "**Struggle against Causation**: How to use causal assumptions to design estimators, contrast alternative models\n",
    "\n",
    "**Struggle against data**: How to make estimators work"
   ]
  },
  {
   "cell_type": "markdown",
   "id": "9e9f91e2",
   "metadata": {},
   "source": [
    "## Problems of Prediction\n",
    "\n",
    "- What function describes these points? (**fitting, compression**)\n",
    "\n",
    "- What function explains the points? (**causal inference**)\n",
    "\n",
    "- What would happen if we changed a point? (**intervention**)\n",
    "\n",
    "- What is the next observation from the same process? (**prediction**)"
   ]
  },
  {
   "cell_type": "markdown",
   "id": "3c5d3b37",
   "metadata": {},
   "source": [
    "## Leave-one-out cross-validation (LOO)\n",
    "\n",
    "1) Drop one point\n",
    "2) Fit line to remaining\n",
    "3) Predict dropped point\n",
    "4) Repeat (1) with next point\n",
    "5) Score is error on dropped \n",
    "\n",
    "Do not compare on the In score, compare them on the Out score. \n",
    "\n",
    "Log pointwise predictive density (predictive distribution).\n",
    "\n",
    "General intuition for simple models: Flexibility leads to lower In score, higher out score, Overfitting to the data and leading to increase in error on the out of sample. "
   ]
  }
 ],
 "metadata": {
  "kernelspec": {
   "display_name": "Python 3 (ipykernel)",
   "language": "python",
   "name": "python3"
  },
  "language_info": {
   "codemirror_mode": {
    "name": "ipython",
    "version": 3
   },
   "file_extension": ".py",
   "mimetype": "text/x-python",
   "name": "python",
   "nbconvert_exporter": "python",
   "pygments_lexer": "ipython3",
   "version": "3.11.0"
  }
 },
 "nbformat": 4,
 "nbformat_minor": 5
}
